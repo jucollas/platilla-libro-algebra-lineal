{
 "cells": [
  {
   "cell_type": "markdown",
   "id": "f6a1c27f",
   "metadata": {},
   "source": [
    "# 🔢 Introducción a NumPy\n",
    "\n",
    "**NumPy (Numerical Python)** es una librería esencial para el cálculo numérico en Python.  \n",
    "Proporciona estructuras de datos eficientes (los **arrays**) y operaciones matemáticas optimizadas que permiten realizar cálculos **vectorizados** de forma rápida.\n",
    "\n",
    "A diferencia de las listas comunes, los arrays de NumPy ocupan menos memoria y ejecutan operaciones de manera más eficiente, aprovechando la computación en bajo nivel.\n"
   ]
  },
  {
   "cell_type": "code",
   "execution_count": 2,
   "id": "acbbc667",
   "metadata": {},
   "outputs": [
    {
     "data": {
      "text/plain": [
       "'2.3.3'"
      ]
     },
     "execution_count": 2,
     "metadata": {},
     "output_type": "execute_result"
    }
   ],
   "source": [
    "# Importar NumPy\n",
    "import numpy as np\n",
    "\n",
    "# Versión instalada\n",
    "np.__version__\n"
   ]
  },
  {
   "cell_type": "markdown",
   "id": "d1108602",
   "metadata": {},
   "source": [
    "## 📦 Creación de arrays\n",
    "\n",
    "El objeto central de NumPy es el **ndarray** (N-dimensional array).\n",
    "\n",
    "Podemos crearlos a partir de listas o usando funciones integradas.\n"
   ]
  },
  {
   "cell_type": "code",
   "execution_count": 3,
   "id": "a0e6b2f1",
   "metadata": {},
   "outputs": [
    {
     "name": "stdout",
     "output_type": "stream",
     "text": [
      "Array: [1 2 3 4 5]\n",
      "Tipo: <class 'numpy.ndarray'>\n",
      "Dimensiones: 1\n",
      "Forma: (5,)\n",
      "Tipo de datos: int64\n"
     ]
    }
   ],
   "source": [
    "# Crear un array a partir de una lista\n",
    "lista = [1, 2, 3, 4, 5]\n",
    "arr = np.array(lista)\n",
    "\n",
    "print(\"Array:\", arr)\n",
    "print(\"Tipo:\", type(arr))\n",
    "print(\"Dimensiones:\", arr.ndim)\n",
    "print(\"Forma:\", arr.shape)\n",
    "print(\"Tipo de datos:\", arr.dtype)\n"
   ]
  },
  {
   "cell_type": "markdown",
   "id": "b3e81f7a",
   "metadata": {},
   "source": [
    "## 🧮 Creación de arrays comunes\n",
    "\n",
    "NumPy incluye funciones para generar arreglos con distintos patrones numéricos.\n"
   ]
  },
  {
   "cell_type": "code",
   "execution_count": 4,
   "id": "b7e0bb56",
   "metadata": {},
   "outputs": [
    {
     "name": "stdout",
     "output_type": "stream",
     "text": [
      "Array de ceros:\n",
      " [[0. 0. 0.]\n",
      " [0. 0. 0.]]\n",
      "\n",
      "Array de unos:\n",
      " [[1. 1. 1.]\n",
      " [1. 1. 1.]]\n",
      "\n",
      "Rango de números:\n",
      " [0 2 4 6 8]\n",
      "\n",
      "Números equiespaciados:\n",
      " [0.   0.25 0.5  0.75 1.  ]\n",
      "\n",
      "Matriz identidad:\n",
      " [[1. 0. 0.]\n",
      " [0. 1. 0.]\n",
      " [0. 0. 1.]]\n"
     ]
    }
   ],
   "source": [
    "print(\"Array de ceros:\\n\", np.zeros((2, 3)))\n",
    "print(\"\\nArray de unos:\\n\", np.ones((2, 3)))\n",
    "print(\"\\nRango de números:\\n\", np.arange(0, 10, 2))\n",
    "print(\"\\nNúmeros equiespaciados:\\n\", np.linspace(0, 1, 5))\n",
    "print(\"\\nMatriz identidad:\\n\", np.eye(3))\n"
   ]
  },
  {
   "cell_type": "markdown",
   "id": "01041af2",
   "metadata": {},
   "source": [
    "## 🔢 Acceso e indexación\n",
    "\n",
    "Podemos acceder a los elementos de un array de manera similar a las listas,  \n",
    "pero con más control cuando se trabaja con matrices multidimensionales.\n"
   ]
  },
  {
   "cell_type": "code",
   "execution_count": 5,
   "id": "dadbf426",
   "metadata": {},
   "outputs": [
    {
     "name": "stdout",
     "output_type": "stream",
     "text": [
      "Array:\n",
      " [[10 20 30]\n",
      " [40 50 60]]\n",
      "Elemento (0,1): 20\n",
      "Primera fila: [10 20 30]\n",
      "Segunda columna: [20 50]\n"
     ]
    }
   ],
   "source": [
    "arr = np.array([[10, 20, 30], [40, 50, 60]])\n",
    "\n",
    "print(\"Array:\\n\", arr)\n",
    "print(\"Elemento (0,1):\", arr[0, 1])  # fila 0, columna 1\n",
    "print(\"Primera fila:\", arr[0])\n",
    "print(\"Segunda columna:\", arr[:, 1])\n"
   ]
  },
  {
   "cell_type": "markdown",
   "id": "857dd541",
   "metadata": {},
   "source": [
    "## ⚙️ Operaciones vectorizadas\n",
    "\n",
    "A diferencia de las listas, NumPy permite realizar **operaciones matemáticas directamente sobre los arrays**, sin usar bucles.\n"
   ]
  },
  {
   "cell_type": "code",
   "execution_count": 6,
   "id": "b087968f",
   "metadata": {},
   "outputs": [
    {
     "name": "stdout",
     "output_type": "stream",
     "text": [
      "Suma: [11 22 33 44]\n",
      "Resta: [ -9 -18 -27 -36]\n",
      "Producto: [ 10  40  90 160]\n",
      "División: [0.1 0.1 0.1 0.1]\n",
      "Potencia: [ 1  4  9 16]\n"
     ]
    }
   ],
   "source": [
    "a = np.array([1, 2, 3, 4])\n",
    "b = np.array([10, 20, 30, 40])\n",
    "\n",
    "print(\"Suma:\", a + b)\n",
    "print(\"Resta:\", a - b)\n",
    "print(\"Producto:\", a * b)\n",
    "print(\"División:\", a / b)\n",
    "print(\"Potencia:\", a ** 2)\n"
   ]
  },
  {
   "cell_type": "markdown",
   "id": "9f665340",
   "metadata": {},
   "source": [
    "## 🧠 Comparación con listas\n",
    "\n",
    "Veamos la diferencia entre usar listas nativas de Python y arrays de NumPy.\n"
   ]
  },
  {
   "cell_type": "code",
   "execution_count": 7,
   "id": "1fc85656",
   "metadata": {},
   "outputs": [
    {
     "name": "stdout",
     "output_type": "stream",
     "text": [
      "Tiempo con listas: 0.0878 s\n",
      "Tiempo con NumPy: 0.005 s\n"
     ]
    }
   ],
   "source": [
    "import time\n",
    "\n",
    "# Crear listas y arrays grandes\n",
    "L = list(range(1_000_000))\n",
    "A = np.arange(1_000_000)\n",
    "\n",
    "# Suma con listas (más lenta)\n",
    "inicio = time.time()\n",
    "L2 = [x * 2 for x in L]\n",
    "print(\"Tiempo con listas:\", round(time.time() - inicio, 4), \"s\")\n",
    "\n",
    "# Suma con NumPy (más rápida)\n",
    "inicio = time.time()\n",
    "A2 = A * 2\n",
    "print(\"Tiempo con NumPy:\", round(time.time() - inicio, 4), \"s\")\n"
   ]
  },
  {
   "cell_type": "markdown",
   "id": "43bb4adb",
   "metadata": {},
   "source": [
    "## 🧮 Operaciones estadísticas\n",
    "\n",
    "NumPy tiene funciones predefinidas para cálculos comunes: media, desviación estándar, mínimo, máximo, etc.\n"
   ]
  },
  {
   "cell_type": "code",
   "execution_count": null,
   "id": "9deb7e65",
   "metadata": {},
   "outputs": [],
   "source": [
    "valores = np.array([10, 15, 20, 25, 30])\n",
    "\n",
    "print(\"Media:\", np.mean(valores))\n",
    "print(\"Desviación estándar:\", np.std(valores))\n",
    "print(\"Mínimo:\", np.min(valores))\n",
    "print(\"Máximo:\", np.max(valores))\n",
    "print(\"Suma total:\", np.sum(valores))\n"
   ]
  },
  {
   "cell_type": "markdown",
   "id": "8634a5d5",
   "metadata": {},
   "source": [
    "## 🧩 Operaciones matriciales\n",
    "\n",
    "Los arrays 2D pueden usarse como matrices, lo que permite realizar multiplicaciones, transpuestas y determinantes.\n"
   ]
  },
  {
   "cell_type": "code",
   "execution_count": null,
   "id": "d0530d92",
   "metadata": {},
   "outputs": [],
   "source": [
    "M1 = np.array([[1, 2], [3, 4]])\n",
    "M2 = np.array([[5, 6], [7, 8]])\n",
    "\n",
    "print(\"Multiplicación elemento a elemento:\\n\", M1 * M2)\n",
    "print(\"\\nProducto matricial:\\n\", np.dot(M1, M2))\n",
    "print(\"\\nTranspuesta de M1:\\n\", M1.T)\n"
   ]
  },
  {
   "cell_type": "markdown",
   "id": "8b65c237",
   "metadata": {},
   "source": [
    "## 🔄 Cambiar forma y dimensiones\n",
    "\n",
    "Podemos transformar la forma de un array con `reshape()`, sin cambiar su contenido.\n"
   ]
  },
  {
   "cell_type": "code",
   "execution_count": null,
   "id": "1dbc8e7b",
   "metadata": {},
   "outputs": [],
   "source": [
    "arr = np.arange(1, 13)\n",
    "print(\"Array original:\", arr)\n",
    "\n",
    "matriz = arr.reshape(3, 4)\n",
    "print(\"\\nMatriz 3x4:\\n\", matriz)\n",
    "\n",
    "vector = matriz.flatten()\n",
    "print(\"\\nConvertido de nuevo a 1D:\", vector)\n"
   ]
  },
  {
   "cell_type": "markdown",
   "id": "d059fcda",
   "metadata": {},
   "source": [
    "## 🧩 Ejemplo práctico: promedio de columnas\n",
    "\n",
    "Supongamos que tenemos los puntajes de tres estudiantes en cuatro asignaturas,  \n",
    "y queremos calcular el promedio por asignatura.\n"
   ]
  },
  {
   "cell_type": "code",
   "execution_count": 8,
   "id": "1762b5f6",
   "metadata": {},
   "outputs": [
    {
     "name": "stdout",
     "output_type": "stream",
     "text": [
      "Promedio por asignatura: [3.76666667 4.03333333 4.1        4.1       ]\n"
     ]
    }
   ],
   "source": [
    "notas = np.array([\n",
    "    [3.5, 4.0, 3.8, 4.2],\n",
    "    [4.1, 3.9, 4.5, 4.3],\n",
    "    [3.7, 4.2, 4.0, 3.8]\n",
    "])\n",
    "\n",
    "promedios = np.mean(notas, axis=0)  # promedio por columna\n",
    "print(\"Promedio por asignatura:\", promedios)\n"
   ]
  },
  {
   "cell_type": "markdown",
   "id": "670a647b",
   "metadata": {},
   "source": [
    "## ⚡ Ejemplo: norma euclidiana\n",
    "\n",
    "NumPy también incluye funciones para cálculos vectoriales, como la **norma (longitud)** de un vector.\n"
   ]
  },
  {
   "cell_type": "code",
   "execution_count": null,
   "id": "e2452b5a",
   "metadata": {},
   "outputs": [],
   "source": [
    "v = np.array([3, 4])\n",
    "norma = np.linalg.norm(v)\n",
    "\n",
    "print(\"Vector:\", v)\n",
    "print(\"Norma euclidiana:\", norma)\n"
   ]
  },
  {
   "cell_type": "markdown",
   "id": "91ebae62",
   "metadata": {},
   "source": [
    "## 🧮 Otras operaciones útiles\n",
    "\n",
    "- `np.max`, `np.min`, `np.argmax`, `np.argmin`  \n",
    "- `np.sort` → ordena elementos  \n",
    "- `np.unique` → elimina duplicados  \n",
    "- `np.concatenate` → une arrays\n"
   ]
  },
  {
   "cell_type": "code",
   "execution_count": null,
   "id": "dffc6b6d",
   "metadata": {},
   "outputs": [],
   "source": [
    "a = np.array([1, 3, 5, 3, 1])\n",
    "b = np.array([7, 9])\n",
    "\n",
    "print(\"Array ordenado:\", np.sort(a))\n",
    "print(\"Valores únicos:\", np.unique(a))\n",
    "print(\"Índice del máximo:\", np.argmax(a))\n",
    "print(\"Concatenación:\", np.concatenate((a, b)))\n"
   ]
  },
  {
   "cell_type": "markdown",
   "id": "ebd50145",
   "metadata": {},
   "source": [
    "## 🧩 Actividad práctica\n",
    "\n",
    "1. Crea una matriz 3×3 con números enteros del 1 al 9.  \n",
    "2. Calcula:\n",
    "   - La suma de cada fila.\n",
    "   - El promedio de cada columna.\n",
    "   - La matriz transpuesta.\n",
    "   - La norma de cada fila.\n",
    "\n",
    "> *Tip:* Usa `np.sum(..., axis=1)` y `np.mean(..., axis=0)`.\n"
   ]
  },
  {
   "cell_type": "code",
   "execution_count": 9,
   "id": "e0d69517",
   "metadata": {},
   "outputs": [
    {
     "name": "stdout",
     "output_type": "stream",
     "text": [
      "Matriz original:\n",
      " [[1 2 3]\n",
      " [4 5 6]\n",
      " [7 8 9]]\n",
      "Suma por fila: [ 6 15 24]\n",
      "Promedio por columna: [4. 5. 6.]\n",
      "Transpuesta:\n",
      " [[1 4 7]\n",
      " [2 5 8]\n",
      " [3 6 9]]\n",
      "Norma de la fila 1: 3.7416573867739413\n",
      "Norma de la fila 2: 8.774964387392123\n",
      "Norma de la fila 3: 13.92838827718412\n"
     ]
    }
   ],
   "source": [
    "# Tu solución aquí 👇\n",
    "mat = np.arange(1, 10).reshape(3, 3)\n",
    "\n",
    "print(\"Matriz original:\\n\", mat)\n",
    "print(\"Suma por fila:\", np.sum(mat, axis=1))\n",
    "print(\"Promedio por columna:\", np.mean(mat, axis=0))\n",
    "print(\"Transpuesta:\\n\", mat.T)\n",
    "for i in range(mat.shape[0]):\n",
    "    print(f\"Norma de la fila {i+1}:\", np.linalg.norm(mat[i]))\n"
   ]
  },
  {
   "cell_type": "markdown",
   "id": "47821f60",
   "metadata": {},
   "source": [
    "## ✅ Conclusiones\n",
    "\n",
    "- **NumPy** es la base de la computación científica en Python.  \n",
    "- Permite trabajar con datos numéricos de manera **eficiente y vectorizada**.  \n",
    "- Las operaciones son más rápidas y expresivas que con listas nativas.  \n",
    "- Es el punto de partida para herramientas avanzadas como **Pandas**, **Matplotlib**, y **SciPy**.\n",
    "\n",
    "En la siguiente sección veremos cómo manejar archivos para importar y exportar datos, preparando el terreno para trabajar con conjuntos de datos reales.\n"
   ]
  }
 ],
 "metadata": {
  "kernelspec": {
   "display_name": "Python 3",
   "language": "python",
   "name": "python3"
  },
  "language_info": {
   "codemirror_mode": {
    "name": "ipython",
    "version": 3
   },
   "file_extension": ".py",
   "mimetype": "text/x-python",
   "name": "python",
   "nbconvert_exporter": "python",
   "pygments_lexer": "ipython3",
   "version": "3.13.7"
  }
 },
 "nbformat": 4,
 "nbformat_minor": 5
}
