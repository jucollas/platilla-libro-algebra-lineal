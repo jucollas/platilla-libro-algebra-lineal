{
 "cells": [
  {
   "cell_type": "markdown",
   "id": "21299cbd",
   "metadata": {},
   "source": [
    "## Actividad"
   ]
  }
 ],
 "metadata": {
  "language_info": {
   "name": "python"
  }
 },
 "nbformat": 4,
 "nbformat_minor": 5
}
