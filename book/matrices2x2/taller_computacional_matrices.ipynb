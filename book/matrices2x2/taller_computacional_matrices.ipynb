{
 "cells": [
  {
   "cell_type": "markdown",
   "id": "e7db14b9",
   "metadata": {},
   "source": [
    "\n",
    "# Taller Computacional Matrices\n",
    "\n",
    "en esta sección usaremos python para calcular operaciones con matrices y vectores. Para las operaciones vectoriales y matriciales, usaremos la librería `numpy`.\n",
    "\n",
    "\n",
    "## Generar una matriz\n",
    "\n",
    "Generar la matriz debemos usar el comando `np.array` de la librería `numpy`, la matriz se debe ingresar como una lista de listas. Por ejemplo, para generar la matriz\n",
    "$$A=\\begin{pmatrix} 1 & 2 \\\\ 3 & 4 \\end{pmatrix}$$\n"
   ]
  },
  {
   "cell_type": "code",
   "execution_count": 1,
   "id": "dab88545",
   "metadata": {},
   "outputs": [
    {
     "name": "stdout",
     "output_type": "stream",
     "text": [
      "[[1 2]\n",
      " [3 4]]\n"
     ]
    }
   ],
   "source": [
    "import numpy as np\n",
    "\n",
    "A = np.array([[1, 2], [3, 4]])\n",
    "\n",
    "print(A)"
   ]
  },
  {
   "cell_type": "markdown",
   "id": "8bbd3ec9",
   "metadata": {},
   "source": [
    "\n",
    "\n",
    "**Crear un vector columna**\n",
    "\n",
    "Ahora vamos a generar el vector columna\n",
    "\n",
    "$$v=\\begin{pmatrix} 1 \\\\ 2 \\end{pmatrix},$$\n",
    "\n"
   ]
  },
  {
   "cell_type": "code",
   "execution_count": 2,
   "id": "a3dcd885",
   "metadata": {},
   "outputs": [
    {
     "name": "stdout",
     "output_type": "stream",
     "text": [
      "[[1]\n",
      " [2]]\n"
     ]
    }
   ],
   "source": [
    "import numpy as np\n",
    "\n",
    "v = np.array([[1], [2]])\n",
    "\n",
    "print(v)\n"
   ]
  },
  {
   "cell_type": "markdown",
   "id": "214ea9ef",
   "metadata": {},
   "source": [
    "**Crear un vector fila**\n",
    "\n",
    "$$w=\\begin{pmatrix} 1 & 2 \\end{pmatrix}$$\n"
   ]
  },
  {
   "cell_type": "code",
   "execution_count": 3,
   "id": "b01038c5",
   "metadata": {},
   "outputs": [
    {
     "name": "stdout",
     "output_type": "stream",
     "text": [
      "[[1 2]]\n"
     ]
    }
   ],
   "source": [
    "import numpy as np\n",
    "\n",
    "w = np.array([[1, 2]])\n",
    "\n",
    "print(w)\n"
   ]
  },
  {
   "cell_type": "markdown",
   "id": "aa091c2c",
   "metadata": {},
   "source": [
    "\n",
    "# Operaciones con matrices\n",
    "\n",
    "Recuerde que para sumar dos matrices, estas deben tener la misma dimensión. Por ejemplo, si tenemos las matrices\n",
    "\n",
    "$$A=\\begin{pmatrix} 1 & 2 \\\\ 3 & 4 \\end{pmatrix} \\text{ y } B=\\begin{pmatrix} 5 & 6 \\\\ 7 & 8 \\end{pmatrix},$$\n",
    "\n",
    "la suma de estas matrices es\n",
    "\n",
    "\n"
   ]
  },
  {
   "cell_type": "code",
   "execution_count": 4,
   "id": "308d779a",
   "metadata": {},
   "outputs": [
    {
     "name": "stdout",
     "output_type": "stream",
     "text": [
      "[[ 6  8]\n",
      " [10 12]]\n"
     ]
    }
   ],
   "source": [
    "import numpy as np\n",
    "\n",
    "A = np.array([[1, 2], [3, 4]])\n",
    "B = np.array([[5, 6], [7, 8]])\n",
    "\n",
    "C = A + B\n",
    "\n",
    "print(C)\n",
    "\n",
    "\n"
   ]
  },
  {
   "cell_type": "markdown",
   "id": "ebf5cdfe",
   "metadata": {},
   "source": [
    "de la misma forma si queremos multiplicar una matriz por un escalar, por ejemplo, queremos multiplicar la matriz $A$ por el escalar $\\alpha=2$:\n",
    "\n",
    "\n"
   ]
  },
  {
   "cell_type": "code",
   "execution_count": 5,
   "id": "cf642b38",
   "metadata": {},
   "outputs": [
    {
     "name": "stdout",
     "output_type": "stream",
     "text": [
      "[[2 4]\n",
      " [6 8]]\n"
     ]
    }
   ],
   "source": [
    "import numpy as np\n",
    "\n",
    "A = np.array([[1, 2], [3, 4]])\n",
    "alpha = 2\n",
    "C=alpha*A\n",
    "\n",
    "print(C)\n",
    "\n",
    "\n"
   ]
  },
  {
   "cell_type": "markdown",
   "id": "3d749dcc",
   "metadata": {},
   "source": [
    "Para la multiplicación de matrices podemos usar el comando `np.dot` de la librería `numpy` ó `@`. Por ejemplo, si tenemos las matrices\n",
    "\n",
    "$$A=\\begin{pmatrix} 1 & 2 \\\\ 3 & 4 \\end{pmatrix} \\text{ y } B=\\begin{pmatrix} 5 & 6 \\\\ 7 & 8 \\end{pmatrix},$$\n",
    "\n",
    "la multiplicación de estas matrices es\n",
    "\n"
   ]
  },
  {
   "cell_type": "code",
   "execution_count": 6,
   "id": "599885bd",
   "metadata": {},
   "outputs": [
    {
     "name": "stdout",
     "output_type": "stream",
     "text": [
      "Usando el comando np.dot [[19 22]\n",
      " [43 50]]\n",
      "Usando el comando @ [[19 22]\n",
      " [43 50]]\n"
     ]
    }
   ],
   "source": [
    "import numpy as np\n",
    "A = np.array([[1, 2], [3, 4]])\n",
    "B = np.array([[5, 6], [7, 8]])\n",
    "\n",
    "C_dot = np.dot(A, B)\n",
    "C_at = A @ B\n",
    "\n",
    "print(\"Usando el comando np.dot\",C_dot)\n",
    "print(\"Usando el comando @\",C_at)\n",
    "\n",
    "\n",
    "\n"
   ]
  },
  {
   "cell_type": "markdown",
   "id": "c4780a21",
   "metadata": {},
   "source": [
    "## Ejericios\n",
    "\n",
    "1. Seas $A=\\begin{pmatrix} 1 & 2 \\\\ 3 & 4 \\end{pmatrix}$ y $B=\\begin{pmatrix} 5 & 6 \\\\ 7 & 8 \\end{pmatrix}$, $X=\\begin{pmatrix} 1 \\\\ 2 \\end{pmatrix}$ y $Y=\\begin{pmatrix} 3 \\\\ 4 \\end{pmatrix}$, \n",
    "\n",
    "Calcule \n",
    "1. $A+B$, \n",
    "\n",
    "2. $A-B$, \n",
    "\n",
    "3. $A\\cdot B$, \n",
    "\n",
    "4. $A\\cdot X$, \n",
    "\n",
    "5. $A\\cdot Y$\n",
    "\n",
    "6. $X\\cdot Y$.\n",
    "\n",
    "\n"
   ]
  },
  {
   "cell_type": "code",
   "execution_count": 7,
   "id": "1cfb5d86",
   "metadata": {},
   "outputs": [],
   "source": [
    "# Puede resolver lo ejercicios aqui."
   ]
  },
  {
   "cell_type": "markdown",
   "id": "4dd1c3a7",
   "metadata": {},
   "source": [
    "# Transpuesta de una matriz\n",
    "\n",
    "Para calcula la transpuesta de una matriz, usamos el comando `np.transpose` de la librería `numpy`, o desúes de generar la matriz usamos el comando .T. Por ejemplo, si tenemos la matriz\n",
    "\n",
    "$$A=\\begin{pmatrix} 1 & 2 \\\\ 3 & 4 \\end{pmatrix},$$\n",
    "\n",
    "\n"
   ]
  },
  {
   "cell_type": "code",
   "execution_count": 8,
   "id": "c31d5e87",
   "metadata": {},
   "outputs": [
    {
     "name": "stdout",
     "output_type": "stream",
     "text": [
      "usando el p comando mp.transpose [[1 3]\n",
      " [2 4]]\n",
      "usando el segundo .T [[1 3]\n",
      " [2 4]]\n"
     ]
    }
   ],
   "source": [
    "import numpy as np\n",
    "\n",
    "A = np.array([[1, 2], [3, 4]])\n",
    "\n",
    "A_transpuesta1 = np.transpose(A)\n",
    "\n",
    "A_transpuesta2=A.T\n",
    "\n",
    "print(\"usando el p comando mp.transpose\",A_transpuesta1)\n",
    "print(\"usando el segundo .T\",A_transpuesta2)\n",
    "\n",
    "\n",
    "\n"
   ]
  },
  {
   "cell_type": "markdown",
   "id": "4761a677",
   "metadata": {},
   "source": [
    "# Determinante de una matriz\n",
    "\n",
    "Para calcular el determinante de una matriz, usamos el comando `np.linalg.det` de la librería `numpy`. Por ejemplo, si tenemos la matriz\n",
    "\n",
    "$$A=\\begin{pmatrix} 1 & 2 \\\\ 3 & 4 \\end{pmatrix},$$\n",
    "\n",
    "\n",
    "\n"
   ]
  },
  {
   "cell_type": "code",
   "execution_count": 9,
   "id": "57f609bb",
   "metadata": {},
   "outputs": [
    {
     "name": "stdout",
     "output_type": "stream",
     "text": [
      "-2.0000000000000004\n"
     ]
    }
   ],
   "source": [
    "import numpy as np\n",
    "\n",
    "A = np.array([[1, 2], [3, 4]])\n",
    "\n",
    "det_A = np.linalg.det(A)\n",
    "\n",
    "print(det_A)\n",
    "\n",
    "\n"
   ]
  },
  {
   "cell_type": "markdown",
   "id": "b6ccb694",
   "metadata": {},
   "source": [
    "# Inversa de una matriz\n",
    "\n",
    "Para calcular la inversa de una matriz, usamos el comando `np.linalg.inv` de la librería `numpy`. Por ejemplo, si tenemos la matriz\n",
    "\n",
    "$$A=\\begin{pmatrix} 1 & 2 \\\\ 3 & 4 \\end{pmatrix},$$\n",
    "\n"
   ]
  },
  {
   "cell_type": "code",
   "execution_count": 10,
   "id": "abcc451a",
   "metadata": {},
   "outputs": [
    {
     "name": "stdout",
     "output_type": "stream",
     "text": [
      "[[-2.   1. ]\n",
      " [ 1.5 -0.5]]\n"
     ]
    }
   ],
   "source": [
    "import numpy as np\n",
    "\n",
    "A = np.array([[1, 2], [3, 4]])\n",
    "\n",
    "A_inversa = np.linalg.inv(A)\n",
    "\n",
    "print(A_inversa)\n"
   ]
  }
 ],
 "metadata": {
  "kernelspec": {
   "display_name": ".env",
   "language": "python",
   "name": "python3"
  },
  "language_info": {
   "codemirror_mode": {
    "name": "ipython",
    "version": 3
   },
   "file_extension": ".py",
   "mimetype": "text/x-python",
   "name": "python",
   "nbconvert_exporter": "python",
   "pygments_lexer": "ipython3",
   "version": "3.13.7"
  }
 },
 "nbformat": 4,
 "nbformat_minor": 5
}
