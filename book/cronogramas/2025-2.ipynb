{
 "cells": [
  {
   "cell_type": "markdown",
   "id": "15a861ce",
   "metadata": {},
   "source": [
    "# Cronograma 2025-2\n",
    "Este es cronograma de la asignatura **Álgebra Lineal 2025-2**.\n",
    "\n",
    "| Semana     | Fecha                    | Tema |\n",
    "|------------|--------------------------|------|\n",
    "| 27 Julio   | 1 Agosto                 | Presentación del curso, actividad de enganche, vectores en $R^2$  |\n",
    "|            |                          | Vectores en $R^2$, operaciones: suma, multiplicación por un escalar y producto punto con sus respectivas propiedades. |\n",
    "| 4 Agosto   | 8 Agosto (Jueves)        | Ecuación de la recta. Rectas paralelas, perpendiculares, **(independencia lineal, bases desde una perspectiva geométrica)** |\n",
    "| 11 Agosto  | 15 Agosto                | Vectores en $R^3$, ecuación de Plano y de la recta |\n",
    "|            |                          | Subespacios en $R^2$. Proyección de un vector sobre otro, norma, distancia entre dos puntos, distancia entre un punto y una recta. |\n",
    "| 18 Agosto  | 22 Agosto (Lunes)        | Matrices 2x2, determinantes, operaciones entre matrices. |\n",
    "| 25 Agosto  | 29 Agosto                | Trabajo computacional |\n",
    "|            |                          | Sistemas de ecuaciones 2x2 (Notación matricial) - Inversa de una matriz 2x2 |\n",
    "| 1 Sep      | 5 Sep                    | **Parcial I** |\n",
    "|            |                          | Inversa de una matriz. Aplicaciones de sistemas de ecuaciones 2x2. |\n",
    "| 8 Sep      | 12 Sep                   | Matrices $N \\times M$, operaciones |\n",
    "|            |                          | Determinantes de $N \\times N$, Inversa de una matriz |\n",
    "| 15 Sep     | 19 Sep                   | Soluciones de sistemas de ecuaciones lineales I |\n",
    "|            |                          | Soluciones de sistemas de ecuaciones lineales II |\n",
    "| 22 Sep     | 26 Sep                   | Vectores en $R^N$, operaciones (suma, resta, producto punto, norma), e interpretabilidad |\n",
    "|            |                          | Espacios generadores en $R^N$, subespacios |\n",
    "| 29 Sep     | 3 Oct                    | Independencia lineal, bases y dimensión |\n",
    "|            |                          | Relación entre la solución de sistemas e independencia lineal |\n",
    "| 6 Oct      | 10 Oct                   | Trabajo computacional |\n",
    "|            |                          | Bases ortonormales |\n",
    "| 13 Oct     | 17 Oct (Lunes)           | **Parcial II** |\n",
    "|            |                          | Coordenadas y cambio de base |\n",
    "| 20 Oct     | 24 Oct                   | Transformaciones lineales en $R^n$ |\n",
    "|            |                          | Núcleo e imagen de una transformación |\n",
    "| 27 Oct     | 31 Oct                   | La matriz de una transformación lineal |\n",
    "| 3 Nov      | 7 Nov (Lunes)            | Vectores y valores propios en $R^2$ |\n",
    "|            |                          | Cálculo de valores propios y vectores propios |\n",
    "| 10 Nov     | 14 Nov                   | Diagonalización |\n",
    "|            |                          | Trabajo computacional |\n",
    "| 17 Nov     | 20 Nov (Lunes)           | *(Sin contenido específico indicado)* |\n",
    "| 24 Nov     | 27 Nov                   | **Parcial III** |\n"
   ]
  }
 ],
 "metadata": {
  "language_info": {
   "name": "python"
  }
 },
 "nbformat": 4,
 "nbformat_minor": 5
}
