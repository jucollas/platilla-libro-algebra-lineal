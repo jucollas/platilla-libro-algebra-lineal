{
 "cells": [
  {
   "cell_type": "markdown",
   "id": "b184c1ef",
   "metadata": {},
   "source": [
    "# Verificacion de Valores\n",
    "\n",
    "Aqui aprendermos a verificar un valor creado por codigo"
   ]
  },
  {
   "cell_type": "code",
   "execution_count": null,
   "id": "b8c661c4",
   "metadata": {},
   "outputs": [],
   "source": [
    "from check_tutorial import check_list"
   ]
  },
  {
   "cell_type": "code",
   "execution_count": null,
   "id": "bf7667f5",
   "metadata": {},
   "outputs": [],
   "source": [
    "# pon en una lista todo los valores pares hasta de 0 n\n",
    "\n",
    "ans = _"
   ]
  },
  {
   "cell_type": "code",
   "execution_count": null,
   "id": "c095ec6f",
   "metadata": {},
   "outputs": [],
   "source": [
    "check_list(globals())"
   ]
  }
 ],
 "metadata": {
  "kernelspec": {
   "display_name": "Python 3",
   "language": "python",
   "name": "python3"
  },
  "language_info": {
   "name": "python",
   "version": "3.12.7"
  }
 },
 "nbformat": 4,
 "nbformat_minor": 5
}
