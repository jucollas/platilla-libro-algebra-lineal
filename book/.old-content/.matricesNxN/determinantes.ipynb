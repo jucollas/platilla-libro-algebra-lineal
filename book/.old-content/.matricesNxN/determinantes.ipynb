{
 "cells": [
  {
   "cell_type": "markdown",
   "id": "3c89e558",
   "metadata": {},
   "source": [
    "# Determinantes\n",
    "\n",
    "## Determinante de una matriz\n",
    "\n",
    "El determinante de una matriz cuadrada $A$ de tamaño $n \\times n$ se denota como $|A|$ y se define como\n",
    "\n",
    "1. Si $n=1$, entonces $|A| = a_{11}$.\n",
    "\n",
    "2. Si $n=2$, entonces $|A| = a_{11}a_{22} - a_{12}a_{21}$.\n",
    "\n",
    "3. Si $n>2$, entonces el determinante de una matriz $A$ se puede calcular mediante la regla de Sarrus o mediante la regla de Laplace.\n",
    "\n",
    "### Regla de Sarrus\n",
    "\n",
    "Para calcular el determinante de una matriz $A$ de tamaño $3 \\times 3$ se puede utilizar la regla de Sarrus. Dada una matriz $A = \\begin{bmatrix} a_{11} & a_{12} & a_{13} \\\\ a_{21} & a_{22} & a_{23} \\\\ a_{31} & a_{32} & a_{33} \\end{bmatrix}$, el determinante de $A$ se puede calcular como\n",
    "\n",
    "$$\n",
    "|A| = a_{11}a_{22}a_{33} + a_{12}a_{23}a_{31} + a_{13}a_{21}a_{32} - a_{13}a_{22}a_{31} - a_{12}a_{21}a_{33} - a_{11}a_{23}a_{32}\n",
    "$$\n",
    "\n",
    "### Regla de Laplace\n",
    "\n",
    "Para calcular el determinante de una matriz $A$ de tamaño $n \\times n$ se puede utilizar la regla de Laplace. Dada una matriz $A$ de tamaño $n \\times n$, el determinante de $A$ se puede calcular como\n",
    "\n",
    "$$\n",
    "|A| = \\sum_{i=1}^{n} (-1)^{i+j} a_{ij} |A_{ij}|\n",
    "$$\n",
    "\n",
    "donde $|A_{ij}|$ es el determinante de la matriz que se obtiene al eliminar la fila $i$ y la columna $j$ de la matriz $A$.\n",
    "\n",
    "### Ejemplo\n",
    "\n",
    "Dada la matriz $A = \\begin{bmatrix} 1 & 2 & 3 \\\\ 0 & 1 & 4 \\\\ 5 & 6 & 0 \\end{bmatrix}$, encuentre el determinante de $A$.\n",
    "\n",
    "Para encontrar el determinante de $A$ se puede utilizar la regla de Sarrus o la regla de Laplace. Si utilizamos la regla de Sarrus obtenemos\n",
    "\n",
    "$$\n",
    "|A| = 1 \\cdot 1 \\cdot 0 + 2 \\cdot 4 \\cdot 5 + 3 \\cdot 1 \\cdot 6 - 3 \\cdot 1 \\cdot 5 - 2 \\cdot 1 \\cdot 0 - 1 \\cdot 4 \\cdot 6 = 1 \\cdot 20 + 2 \\cdot 5 + 3 \\cdot 6 - 3 \\cdot 5 - 2 \\cdot 0 - 1 \\cdot 24 = 20 + 10 + 18 - 15 - 0 - 24 = 29\n",
    "$$\n",
    "\n",
    "Por lo tanto, el determinante de $A$ es $|A| = 29$.\n",
    "\n",
    "Ahora mediante la regla de Laplace\n",
    "\n",
    "$$\n",
    "|A| = 1 \\begin{vmatrix} 1 & 4 \\\\ 6 & 0 \\end{vmatrix} - 2 \\begin{vmatrix} 0 & 4 \\\\ 5 & 0 \\end{vmatrix} + 3 \\begin{vmatrix} 0 & 1 \\\\ 5 & 6 \\end{vmatrix} = 1(1 \\cdot 0 - 4 \\cdot 6) - 2(0 \\cdot 0 - 4 \\cdot 5) + 3(0 \\cdot 6 - 1 \\cdot 5) = 1(-24) - 2(-20) + 3(-5) = -24 + 40 - 15 = 29\n",
    "$$\n",
    "\n",
    "## Propiedades de los determinantes\n",
    "\n",
    "1. Si $A$ es una matriz cuadrada de tamaño $n \\times n$, entonces $|A^T| = |A|$.\n",
    "\n",
    "2. Si $A$ es una matriz cuadrada de tamaño $n \\times n$, entonces $|kA| = k^n |A|$. \n",
    "\n",
    "3. Si $A$ y $B$ son matrices cuadradas de tamaño $n \\times n$, entonces $|AB| = |A| |B|$.\n",
    "\n",
    "4. Si $A$ es una matriz cuadrada de tamaño $n \\times n$, entonces $|A^{-1}| = \\frac{1}{|A|}$.\n",
    "5. Si una matriz $A$ tiene una fila o columna de ceros, entonces $|A| = 0$.\n",
    "6. Si $A$ es una matriz cuadrada de tamaño $n \\times n$ y $B$ es una matriz que se obtiene al intercambiar dos filas o dos columnas de $A$, entonces $|B| = -|A|$.\n",
    "\n",
    "7. Si $A$ es una matriz cuadrada y tiene dos filas o columnas iguales, entonces $|A| = 0$.\n",
    "\n",
    "8. Si $A=\\begin{bmatrix} a_{11} & a_{12} \\\\ a_{21} +c& a_{22} +d\\end{bmatrix}$ entonces \n",
    "$$\n",
    "|A| = \\Bigg|\\begin{bmatrix} a_{11} & a_{12} \\\\ a_{21} & a_{22}\\end{bmatrix}\\Bigg|+ \\Bigg|\\begin{bmatrix} a_{11} & a_{12} \\\\a&d \\end{bmatrix}\\Bigg|\n",
    "$$  \n",
    "\n",
    "\n",
    "## Ejemplo \n",
    "\n",
    "Dada la matriz $A = \\begin{bmatrix} 1 & 2 & 3 \\\\ 0 & 1 & 4 \\\\ 5 & 6 & 0 \\end{bmatrix}$, encuentre el determinante de $A$.\n",
    "\n"
   ]
  },
  {
   "cell_type": "code",
   "execution_count": 1,
   "id": "29f68e73",
   "metadata": {},
   "outputs": [
    {
     "name": "stdout",
     "output_type": "stream",
     "text": [
      "El determinante de A es 0.9999999999999964\n"
     ]
    }
   ],
   "source": [
    "\n",
    "import numpy as np\n",
    "A=np.array([[1,2,3],[0,1,4],[5,6,0]])\n",
    "det_A = np.linalg.det(A)\n",
    "print(\"El determinante de A es\",det_A)\n"
   ]
  },
  {
   "cell_type": "markdown",
   "id": "1d45e22b",
   "metadata": {},
   "source": [
    "**Note** Si el determinante de una matriz es cero, entonces la matriz no es invertible.\n"
   ]
  }
 ],
 "metadata": {
  "kernelspec": {
   "display_name": ".env",
   "language": "python",
   "name": "python3"
  },
  "language_info": {
   "codemirror_mode": {
    "name": "ipython",
    "version": 3
   },
   "file_extension": ".py",
   "mimetype": "text/x-python",
   "name": "python",
   "nbconvert_exporter": "python",
   "pygments_lexer": "ipython3",
   "version": "3.13.7"
  }
 },
 "nbformat": 4,
 "nbformat_minor": 5
}
