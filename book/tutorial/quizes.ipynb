{
 "cells": [
  {
   "cell_type": "markdown",
   "id": "e844e73b",
   "metadata": {},
   "source": [
    "# quiz\n",
    "\n",
    "Esta seccion aprenderemos a añadir quizes de cualquier tipo:\n",
    "\n",
    "<iframe src=\"https://studio.frameworkconsulting.com/activity/90877/shared?type=ind\" width=\"10088\" height=\"300\"></iframe>"
   ]
  }
 ],
 "metadata": {
  "language_info": {
   "name": "python"
  }
 },
 "nbformat": 4,
 "nbformat_minor": 5
}
