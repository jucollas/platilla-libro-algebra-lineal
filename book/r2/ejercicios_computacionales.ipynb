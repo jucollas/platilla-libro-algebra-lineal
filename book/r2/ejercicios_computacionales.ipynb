{
 "cells": [
  {
   "cell_type": "markdown",
   "id": "5c733c42",
   "metadata": {},
   "source": [
    "# Ejerccios Compu"
   ]
  }
 ],
 "metadata": {
  "language_info": {
   "name": "python"
  }
 },
 "nbformat": 4,
 "nbformat_minor": 5
}
