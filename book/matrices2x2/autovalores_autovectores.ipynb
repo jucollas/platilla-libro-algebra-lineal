{
 "cells": [
  {
   "cell_type": "markdown",
   "id": "e9ed6d8f",
   "metadata": {},
   "source": [
    "# Autovalores y Autovectores\n",
    "\n",
    "Estudiemos el siguiente ejemplo \n",
    "\n",
    "Suponga que únicamente dos compañías rivales, R y S, fabrican cierto producto. Cada año, la compañía R conserva $\\frac{1}{4}$ de sus clientes, mientras que $\\frac{3}{4}$ de los consumidores cambia a S. Por otro lado, la compañía S conserva $\\frac{1}{3}$ de sus clientes, mientras que $\\frac{2}{3}$ de los consumidores cambia a R. Como podemos esperar, el número de clientes de cada compañía se estabiliza después de un cierto número de años.\n",
    "\n",
    "\n",
    "**¿Cómo podemos modelar este proceso?**\n",
    "\n",
    "Para responder a esta pregunta, definimos las siguientes variables:\n",
    "\n",
    "- $x_n$ es el número de clientes de la compañía R en el año $n$.\n",
    "- $y_n$ es el número de clientes de la compañía S en el año $n$.\n",
    "\n",
    "Con esta notación, podemos escribir el proceso descrito anteriormente como un sistema de ecuaciones lineales:\n",
    "\n",
    "$$\n",
    "\\begin{align*}\n",
    "x_{n+1} &= \\frac{1}{4} x_n + \\frac{3}{4} y_n, \\\\\n",
    "y_{n+1} &= \\frac{2}{3} x_n + \\frac{1}{3} y_n.\n",
    "\\end{align*}\n",
    "$$\n",
    "\n",
    "Este sistema de ecuaciones se puede escribir de forma matricial como\n",
    "\n",
    "$$\n",
    "\\begin{bmatrix}\n",
    "x_{n+1} \\\\\n",
    "y_{n+1}\n",
    "\\end{bmatrix}\n",
    "=\n",
    "\\begin{bmatrix}\n",
    "\\frac{1}{4} & \\frac{3}{4} \\\\\n",
    "\\frac{2}{3} & \\frac{1}{3}\n",
    "\\end{bmatrix}\n",
    "\\begin{bmatrix}\n",
    "x_n \\\\\n",
    "y_n\n",
    "\\end{bmatrix}.\n",
    "$$\n",
    "\n",
    "La matriz $A$ en la ecuación anterior se llama **matriz de transición**. En general\n",
    "\n",
    "De esta forma podríamos encontrar la población para cada año $n$ si conocemos la población inicial. Por ejemplo, si la población inicial es $x_0 = 100$ y $y_0 = 200$, entonces la población en el año 1 sería\n",
    "\n",
    "$$\n",
    "\\begin{bmatrix}\n",
    "x_1 \\\\\n",
    "y_1\n",
    "\\end{bmatrix}\n",
    "=\n",
    "\\begin{bmatrix}\n",
    "\\frac{1}{4} & \\frac{3}{4} \\\\\n",
    "\\frac{2}{3} & \\frac{1}{3}\n",
    "\\end{bmatrix}\n",
    "\\begin{bmatrix}\n",
    "100 \\\\\n",
    "200\n",
    "\\end{bmatrix}.\n",
    "$$\n",
    "\n",
    "Usando python podemos calcular la población en el año 1\n"
   ]
  },
  {
   "cell_type": "code",
   "execution_count": 1,
   "id": "214f3b50",
   "metadata": {},
   "outputs": [
    {
     "name": "stdout",
     "output_type": "stream",
     "text": [
      "La población al primer año [175.         133.33333333]\n"
     ]
    }
   ],
   "source": [
    "import numpy as np\n",
    "\n",
    "A = np.array([[1/4, 3/4], [2/3, 1/3]])\n",
    "x0 = np.array([100, 200])\n",
    "x1 = A @ x0\n",
    "print(\"La población al primer año\",x1)"
   ]
  },
  {
   "cell_type": "markdown",
   "id": "b82e4278",
   "metadata": {},
   "source": [
    "**¿Qué pasa si queremos saber la población en el año 2?**\n",
    "\n",
    "Intenta calcular la población en el año 2,3,4,... usando python.\n",
    "\n",
    "Ahora para ver si la población se estabiliza después de un cierto número de años, podemos calcular la población en el año 100, 1000, 10000, ... y ver si se estabiliza. Aunque este camino no es muy eficiente, podemos intentar escribirlo de forma general.\n",
    "\n",
    "$$ Ax=x$$\n",
    "\n",
    "lo que significa es si existe un vector $x$ tal que $Ax=x$ entonces\n",
    "\n",
    "$$Ax-x=0$$\n",
    "\n",
    "de aquí, tenemos que \n",
    "\n",
    "$$(A-I)x=0$$\n",
    "\n",
    "Note que este sistema de ecuaciones es homogéneo, por lo que la solución no trivial existe si y solo si el determinante de la matriz $A-I$ es cero. Así\n",
    "\n",
    "$$\\det(A-I)=0$$\n"
   ]
  },
  {
   "cell_type": "code",
   "execution_count": 2,
   "id": "22593977",
   "metadata": {},
   "outputs": [],
   "source": [
    "# aqui puede solucionarlo"
   ]
  }
 ],
 "metadata": {
  "kernelspec": {
   "display_name": ".env",
   "language": "python",
   "name": "python3"
  },
  "language_info": {
   "codemirror_mode": {
    "name": "ipython",
    "version": 3
   },
   "file_extension": ".py",
   "mimetype": "text/x-python",
   "name": "python",
   "nbconvert_exporter": "python",
   "pygments_lexer": "ipython3",
   "version": "3.13.7"
  }
 },
 "nbformat": 4,
 "nbformat_minor": 5
}
