{
 "cells": [
  {
   "cell_type": "markdown",
   "id": "8f226079",
   "metadata": {},
   "source": [
    "# Ejerccios teoricos"
   ]
  }
 ],
 "metadata": {
  "language_info": {
   "name": "python"
  }
 },
 "nbformat": 4,
 "nbformat_minor": 5
}
