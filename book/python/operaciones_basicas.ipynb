{
 "cells": [
  {
   "cell_type": "markdown",
   "id": "4398c4cc",
   "metadata": {},
   "source": [
    "# ➕ Operaciones básicas en Python\n",
    "\n",
    "En esta sección aplicaremos las bases del lenguaje para realizar **operaciones aritméticas y manipulaciones con listas y datos**, como paso previo al trabajo con librerías numéricas como NumPy.\n",
    "\n",
    "Las operaciones básicas en Python son intuitivas, y su sintaxis permite escribir expresiones matemáticas casi igual que en papel.\n"
   ]
  },
  {
   "cell_type": "code",
   "execution_count": 1,
   "id": "f6c1ab45",
   "metadata": {},
   "outputs": [
    {
     "name": "stdout",
     "output_type": "stream",
     "text": [
      "Suma: 13\n",
      "Resta: 7\n",
      "Multiplicación: 30\n",
      "División: 3.3333333333333335\n",
      "División entera: 3\n",
      "Módulo (residuo): 1\n",
      "Potencia: 1000\n"
     ]
    }
   ],
   "source": [
    "# Operaciones matemáticas básicas\n",
    "a = 10\n",
    "b = 3\n",
    "\n",
    "print(\"Suma:\", a + b)\n",
    "print(\"Resta:\", a - b)\n",
    "print(\"Multiplicación:\", a * b)\n",
    "print(\"División:\", a / b)\n",
    "print(\"División entera:\", a // b)\n",
    "print(\"Módulo (residuo):\", a % b)\n",
    "print(\"Potencia:\", a ** b)\n"
   ]
  },
  {
   "cell_type": "markdown",
   "id": "5d7db308",
   "metadata": {},
   "source": [
    "## 📏 Prioridad de operaciones\n",
    "\n",
    "Python respeta el **orden de operaciones matemáticas (PEMDAS)**:\n",
    "\n",
    "1. Paréntesis `()`\n",
    "2. Exponentes `**`\n",
    "3. Multiplicación y división `* / // %`\n",
    "4. Suma y resta `+ -`\n"
   ]
  },
  {
   "cell_type": "code",
   "execution_count": null,
   "id": "e9078ea6",
   "metadata": {},
   "outputs": [],
   "source": [
    "resultado = 3 + 4 * 2 ** 2\n",
    "print(\"Resultado sin paréntesis:\", resultado)\n",
    "\n",
    "resultado2 = (3 + 4) * 2 ** 2\n",
    "print(\"Resultado con paréntesis:\", resultado2)\n"
   ]
  },
  {
   "cell_type": "markdown",
   "id": "83370675",
   "metadata": {},
   "source": [
    "## 🔢 Operaciones con listas\n",
    "\n",
    "Las **listas** son estructuras que permiten almacenar varios valores y realizar operaciones básicas con ellos.\n",
    "\n",
    "Podemos sumar, concatenar o repetir listas, así como acceder a sus elementos por índice.\n"
   ]
  },
  {
   "cell_type": "code",
   "execution_count": null,
   "id": "7147736b",
   "metadata": {},
   "outputs": [],
   "source": [
    "numeros = [2, 4, 6, 8]\n",
    "otros = [1, 3, 5]\n",
    "\n",
    "# Concatenar listas\n",
    "lista_total = numeros + otros\n",
    "print(\"Concatenación:\", lista_total)\n",
    "\n",
    "# Repetir listas\n",
    "print(\"Repetición:\", numeros * 2)\n",
    "\n",
    "# Acceso a elementos\n",
    "print(\"Primer elemento:\", numeros[0])\n",
    "print(\"Último elemento:\", numeros[-1])\n"
   ]
  },
  {
   "cell_type": "markdown",
   "id": "4dfbd6da",
   "metadata": {},
   "source": [
    "## 🧮 Operaciones agregadas\n",
    "\n",
    "Python proporciona funciones incorporadas (**built-in**) que nos permiten obtener información de las listas numéricas.\n"
   ]
  },
  {
   "cell_type": "code",
   "execution_count": null,
   "id": "5f7942d6",
   "metadata": {},
   "outputs": [],
   "source": [
    "datos = [10, 15, 7, 20, 13]\n",
    "\n",
    "print(\"Suma:\", sum(datos))\n",
    "print(\"Máximo:\", max(datos))\n",
    "print(\"Mínimo:\", min(datos))\n",
    "print(\"Cantidad de elementos:\", len(datos))\n",
    "print(\"Promedio:\", sum(datos) / len(datos))\n"
   ]
  },
  {
   "cell_type": "markdown",
   "id": "cefcd747",
   "metadata": {},
   "source": [
    "## 🧠 Comprensión de listas\n",
    "\n",
    "Una **comprensión de lista** permite crear listas nuevas a partir de otras, aplicando operaciones o filtros de manera concisa.\n"
   ]
  },
  {
   "cell_type": "code",
   "execution_count": null,
   "id": "5bcf28ae",
   "metadata": {},
   "outputs": [],
   "source": [
    "# Crear una lista con los cuadrados de los números del 1 al 10\n",
    "cuadrados = [x**2 for x in range(1, 11)]\n",
    "print(\"Cuadrados:\", cuadrados)\n",
    "\n",
    "# Filtrar solo los pares\n",
    "pares = [x for x in cuadrados if x % 2 == 0]\n",
    "print(\"Cuadrados pares:\", pares)\n"
   ]
  },
  {
   "cell_type": "markdown",
   "id": "e882e868",
   "metadata": {},
   "source": [
    "## 🔁 Ejemplo práctico: suma acumulada\n",
    "\n",
    "Vamos a calcular la suma acumulada de una lista sin usar librerías externas.\n"
   ]
  },
  {
   "cell_type": "code",
   "execution_count": null,
   "id": "e0ad13f7",
   "metadata": {},
   "outputs": [],
   "source": [
    "valores = [2, 4, 6, 8]\n",
    "suma_acumulada = []\n",
    "suma = 0\n",
    "\n",
    "for v in valores:\n",
    "    suma += v\n",
    "    suma_acumulada.append(suma)\n",
    "\n",
    "print(\"Lista original:\", valores)\n",
    "print(\"Suma acumulada:\", suma_acumulada)\n"
   ]
  },
  {
   "cell_type": "markdown",
   "id": "ed972874",
   "metadata": {},
   "source": [
    "## ⚙️ Ejemplo: promedio y desviación estándar manual\n",
    "\n",
    "Antes de usar NumPy, podemos calcular medidas básicas de forma manual para entender su lógica.\n"
   ]
  },
  {
   "cell_type": "code",
   "execution_count": null,
   "id": "707fb9d6",
   "metadata": {},
   "outputs": [],
   "source": [
    "datos = [5, 7, 9, 6, 8]\n",
    "\n",
    "# Calcular promedio\n",
    "promedio = sum(datos) / len(datos)\n",
    "\n",
    "# Calcular desviación estándar\n",
    "varianza = sum((x - promedio)**2 for x in datos) / len(datos)\n",
    "desviacion = varianza ** 0.5\n",
    "\n",
    "print(\"Datos:\", datos)\n",
    "print(\"Promedio:\", promedio)\n",
    "print(\"Desviación estándar:\", desviacion)\n"
   ]
  },
  {
   "cell_type": "markdown",
   "id": "9459873b",
   "metadata": {},
   "source": [
    "## 💡 Tip: redondeo y formato de salida\n",
    "\n",
    "Podemos controlar el número de decimales que se muestran al imprimir.\n"
   ]
  },
  {
   "cell_type": "code",
   "execution_count": null,
   "id": "71076af8",
   "metadata": {},
   "outputs": [],
   "source": [
    "pi = 3.141592653589793\n",
    "\n",
    "print(\"Redondeo normal:\", round(pi, 3))\n",
    "print(\"Formato con f-string:\", f\"{pi:.4f}\")\n"
   ]
  },
  {
   "cell_type": "markdown",
   "id": "d63c01ff",
   "metadata": {},
   "source": [
    "## 🧩 Ejercicio propuesto\n",
    "\n",
    "Crea una lista con los números del 1 al 20.  \n",
    "Luego genera una **nueva lista** con los **números divisibles por 3**, y calcula su promedio.\n"
   ]
  },
  {
   "cell_type": "code",
   "execution_count": null,
   "id": "a4968bec",
   "metadata": {},
   "outputs": [],
   "source": [
    "# Tu código aquí 👇\n",
    "numeros = list(range(1, 21))\n",
    "\n",
    "# Filtro de divisibles por 3\n",
    "div_3 = [n for n in numeros if n % 3 == 0]\n",
    "\n",
    "# Promedio de los divisibles por 3\n",
    "promedio = sum(div_3) / len(div_3)\n",
    "\n",
    "print(\"Divisibles por 3:\", div_3)\n",
    "print(\"Promedio:\", promedio)\n"
   ]
  }
 ],
 "metadata": {
  "kernelspec": {
   "display_name": "Python 3",
   "language": "python",
   "name": "python3"
  },
  "language_info": {
   "codemirror_mode": {
    "name": "ipython",
    "version": 3
   },
   "file_extension": ".py",
   "mimetype": "text/x-python",
   "name": "python",
   "nbconvert_exporter": "python",
   "pygments_lexer": "ipython3",
   "version": "3.12.7"
  }
 },
 "nbformat": 4,
 "nbformat_minor": 5
}
