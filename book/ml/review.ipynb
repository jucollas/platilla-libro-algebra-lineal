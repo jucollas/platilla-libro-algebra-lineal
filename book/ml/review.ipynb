{
 "cells": [
  {
   "cell_type": "markdown",
   "id": "4d12fc2d-172a-4a27-8455-8343a61b0159",
   "metadata": {},
   "source": [
    "# Review and Quiz\n",
    "## Multiple choice questions:\n",
    "<iframe src=\"https://tudelft.h5p.com/content/1291974985857815707/embed\" aria-label=\"Frequentist regression\" width=\"1088\" height=\"637\" frameborder=\"0\" allowfullscreen=\"allowfullscreen\" allow=\"autoplay *; geolocation *; microphone *; camera *; midi *; encrypted-media *\"></iframe><script src=\"https://tudelft.h5p.com/js/h5p-resizer.js\" charset=\"UTF-8\"></script>"
   ]
  },
  {
   "cell_type": "markdown",
   "id": "9a637e73-c09b-43c3-8c37-8da69f71c805",
   "metadata": {
    "pycharm": {
     "name": "#%%\n"
    }
   },
   "source": [
    "## Exam example question\n",
    "\n",
    "In the exam you will also be tested on open questions. Here is an example question:\n",
    "\n",
    "`````{tab-set}\n",
    "````{tab-item} Open question 1: \n",
    "What are the reducible and the irreducible loss?\n",
    "\n",
    "Example answer:\n",
    "```{toggle} Answer:\n",
    "The irreducible loss represents the variance that will always be present in our model because we make noisy observations. Even if we had the perfect model, we would still have an expected loss greater than zero due to the noise inherent in our data.\n",
    "The reducible loss is the difference between our current model and the perfect model.\n",
    "```\n",
    "````\n",
    "`````"
   ]
  },
  {
   "cell_type": "markdown",
   "id": "7bf8722e",
   "metadata": {},
   "source": [
    "% START-CREDIT\n",
    "% source: machine_learning\n",
    "```{attributiongrey} Attribution\n",
    ":class: attribution\n",
    "This chapter is written by Iuri Rocha, Anne Poot, Joep Storm and Leon Riccius. {ref}`Find out more here <machine_learning_credit>`.\n",
    "```\n",
    "% END-CREDIT"
   ]
  }
 ],
 "metadata": {
  "kernelspec": {
   "display_name": "Python 3 (ipykernel)",
   "language": "python",
   "name": "python3"
  },
  "language_info": {
   "codemirror_mode": {
    "name": "ipython",
    "version": 3
   },
   "file_extension": ".py",
   "mimetype": "text/x-python",
   "name": "python",
   "nbconvert_exporter": "python",
   "pygments_lexer": "ipython3",
   "version": "3.9.17"
  }
 },
 "nbformat": 4,
 "nbformat_minor": 5
}
