{
 "cells": [
  {
   "cell_type": "markdown",
   "id": "598afa88",
   "metadata": {},
   "source": [
    "# 💾 Manejo de archivos en Python y NumPy\n",
    "\n",
    "En muchas aplicaciones matemáticas y científicas, los datos provienen de archivos externos.  \n",
    "Aprenderemos a **leer, escribir y manipular archivos de texto (`.txt`) y CSV (`.csv`)** utilizando tanto Python puro como **NumPy**.\n",
    "\n",
    "Esto nos permitirá importar datos experimentales, procesarlos y exportar resultados de manera automatizada.\n"
   ]
  },
  {
   "cell_type": "markdown",
   "id": "4b19b13c",
   "metadata": {},
   "source": [
    "## 📂 Lectura y escritura de archivos de texto\n",
    "\n",
    "Python tiene funciones integradas para abrir y manipular archivos mediante la instrucción `open()`.  \n",
    "Podemos leer su contenido línea por línea o completo.\n"
   ]
  },
  {
   "cell_type": "code",
   "execution_count": null,
   "id": "b347a41b",
   "metadata": {},
   "outputs": [],
   "source": [
    "# Crear un archivo de texto\n",
    "with open(\"datos.txt\", \"w\") as f:\n",
    "    f.write(\"10\\n20\\n30\\n40\\n50\")\n",
    "\n",
    "# Leer su contenido\n",
    "with open(\"datos.txt\", \"r\") as f:\n",
    "    contenido = f.read()\n",
    "\n",
    "print(\"Contenido del archivo:\")\n",
    "print(contenido)\n"
   ]
  },
  {
   "cell_type": "markdown",
   "id": "78ad27c0",
   "metadata": {},
   "source": [
    "## 🔁 Leer línea por línea\n",
    "\n",
    "La función `readlines()` permite obtener una lista con cada línea del archivo, ideal para procesar datos secuencialmente.\n"
   ]
  },
  {
   "cell_type": "code",
   "execution_count": null,
   "id": "18d137c9",
   "metadata": {},
   "outputs": [],
   "source": [
    "with open(\"datos.txt\", \"r\") as f:\n",
    "    lineas = f.readlines()\n",
    "\n",
    "print(\"Lista de líneas:\", lineas)\n",
    "\n",
    "# Convertir a números\n",
    "numeros = [int(l.strip()) for l in lineas]\n",
    "print(\"Números convertidos:\", numeros)\n"
   ]
  },
  {
   "cell_type": "markdown",
   "id": "2516b227",
   "metadata": {},
   "source": [
    "## 📊 Escritura de archivos\n",
    "\n",
    "Podemos agregar (`append`) o sobrescribir (`write`) contenido fácilmente.\n"
   ]
  },
  {
   "cell_type": "code",
   "execution_count": null,
   "id": "8f2809cb",
   "metadata": {},
   "outputs": [],
   "source": [
    "# Agregar una nueva línea al archivo existente\n",
    "with open(\"datos.txt\", \"a\") as f:\n",
    "    f.write(\"\\n60\")\n",
    "\n",
    "# Verificar contenido actualizado\n",
    "with open(\"datos.txt\", \"r\") as f:\n",
    "    print(f.read())\n"
   ]
  },
  {
   "cell_type": "markdown",
   "id": "cb60672e",
   "metadata": {},
   "source": [
    "## 🧮 Lectura de archivos con NumPy\n",
    "\n",
    "NumPy ofrece funciones optimizadas para leer y escribir datos numéricos directamente en arreglos.\n"
   ]
  },
  {
   "cell_type": "code",
   "execution_count": null,
   "id": "1a4e44f9",
   "metadata": {},
   "outputs": [],
   "source": [
    "import numpy as np\n",
    "\n",
    "# Cargar el archivo como un array\n",
    "data = np.loadtxt(\"datos.txt\")\n",
    "print(\"Array leído con NumPy:\", data)\n",
    "print(\"Media:\", np.mean(data))\n",
    "print(\"Desviación estándar:\", np.std(data))\n"
   ]
  },
  {
   "cell_type": "markdown",
   "id": "838aa74c",
   "metadata": {},
   "source": [
    "## 💾 Escritura de archivos con NumPy\n",
    "\n",
    "También podemos guardar arrays directamente en archivos de texto o CSV.\n"
   ]
  },
  {
   "cell_type": "code",
   "execution_count": null,
   "id": "c55ff7af",
   "metadata": {},
   "outputs": [],
   "source": [
    "# Crear un array de ejemplo\n",
    "valores = np.array([[1, 2, 3],\n",
    "                    [4, 5, 6],\n",
    "                    [7, 8, 9]])\n",
    "\n",
    "# Guardar en texto plano\n",
    "np.savetxt(\"matriz.txt\", valores, fmt=\"%d\")\n",
    "\n",
    "# Guardar en CSV\n",
    "np.savetxt(\"matriz.csv\", valores, delimiter=\",\", fmt=\"%.2f\")\n",
    "\n",
    "print(\"Archivos guardados correctamente.\")\n"
   ]
  },
  {
   "cell_type": "markdown",
   "id": "40a1a07a",
   "metadata": {},
   "source": [
    "## 📈 Leer archivos CSV con delimitadores personalizados\n",
    "\n",
    "Podemos ajustar el delimitador según el formato del archivo (por ejemplo, `,`, `;`, o tabulaciones).\n"
   ]
  },
  {
   "cell_type": "code",
   "execution_count": null,
   "id": "a3b3f7ac",
   "metadata": {},
   "outputs": [],
   "source": [
    "# Leer el archivo CSV creado anteriormente\n",
    "csv_data = np.loadtxt(\"matriz.csv\", delimiter=\",\")\n",
    "print(\"Contenido del archivo CSV:\")\n",
    "print(csv_data)\n"
   ]
  },
  {
   "cell_type": "markdown",
   "id": "1929e854",
   "metadata": {},
   "source": [
    "## 🧩 Ejemplo práctico: temperaturas diarias\n",
    "\n",
    "Supongamos que tenemos un archivo `temperaturas.csv` con mediciones diarias de una semana:\n",
    "\n",
    "| Día | Temperatura (°C) |\n",
    "|-----|------------------|\n",
    "| 1   | 22.5             |\n",
    "| 2   | 23.0             |\n",
    "| 3   | 21.8             |\n",
    "| 4   | 24.2             |\n",
    "| 5   | 25.0             |\n",
    "| 6   | 23.9             |\n",
    "| 7   | 22.7             |\n",
    "\n",
    "Queremos calcular la **temperatura promedio** y **guardar el resultado en un nuevo archivo**."
   ]
  },
  {
   "cell_type": "code",
   "execution_count": null,
   "id": "f71c8f94",
   "metadata": {},
   "outputs": [],
   "source": [
    "# Guardar datos simulados\n",
    "data = np.array([\n",
    "    [1, 22.5],\n",
    "    [2, 23.0],\n",
    "    [3, 21.8],\n",
    "    [4, 24.2],\n",
    "    [5, 25.0],\n",
    "    [6, 23.9],\n",
    "    [7, 22.7]\n",
    "])\n",
    "\n",
    "np.savetxt(\"temperaturas.csv\", data, delimiter=\",\", fmt=\"%.1f\", header=\"dia,temp_c\", comments=\"\")\n",
    "\n",
    "# Leer archivo\n",
    "datos = np.loadtxt(\"temperaturas.csv\", delimiter=\",\", skiprows=1)\n",
    "print(\"Datos cargados:\\n\", datos)\n",
    "\n",
    "# Calcular promedio\n",
    "promedio = np.mean(datos[:, 1])\n",
    "print(\"\\nTemperatura promedio:\", promedio)\n",
    "\n",
    "# Guardar resultado\n",
    "np.savetxt(\"promedio.txt\", np.array([promedio]), fmt=\"%.2f\")\n"
   ]
  },
  {
   "cell_type": "markdown",
   "id": "ae73cb4b",
   "metadata": {},
   "source": [
    "## 🧠 Lectura y escritura de archivos binarios\n",
    "\n",
    "NumPy también permite almacenar y recuperar datos en formato binario,  \n",
    "lo que reduce el tamaño y acelera el acceso a grandes volúmenes de información.\n"
   ]
  },
  {
   "cell_type": "code",
   "execution_count": null,
   "id": "4a18cbe8",
   "metadata": {},
   "outputs": [],
   "source": [
    "# Guardar en formato binario (.npy)\n",
    "np.save(\"datos_binarios.npy\", data)\n",
    "\n",
    "# Cargar el archivo binario\n",
    "datos_bin = np.load(\"datos_binarios.npy\")\n",
    "print(\"Datos cargados desde binario:\\n\", datos_bin)\n"
   ]
  },
  {
   "cell_type": "markdown",
   "id": "7c4d7513",
   "metadata": {},
   "source": [
    "## 🧩 Actividad práctica\n",
    "\n",
    "1. Crea un array con datos de 5 estudiantes: `[id, nota1, nota2, nota3]`.  \n",
    "2. Guarda el array en un archivo `notas.csv`.  \n",
    "3. Carga el archivo y calcula:\n",
    "   - Promedio de cada estudiante.\n",
    "   - Promedio general del grupo.\n",
    "4. Guarda los promedios en `promedios.txt`.\n",
    "\n",
    "> *Tip:* Usa `axis=1` para promediar filas.\n"
   ]
  },
  {
   "cell_type": "code",
   "execution_count": null,
   "id": "71d1e35b",
   "metadata": {},
   "outputs": [],
   "source": [
    "# Tu solución aquí 👇\n",
    "notas = np.array([\n",
    "    [1, 3.5, 4.0, 4.5],\n",
    "    [2, 4.1, 3.8, 4.2],\n",
    "    [3, 3.7, 4.3, 4.0],\n",
    "    [4, 4.5, 4.6, 4.4],\n",
    "    [5, 3.9, 4.0, 4.1]\n",
    "])\n",
    "\n",
    "# Guardar CSV\n",
    "np.savetxt(\"notas.csv\", notas, delimiter=\",\", fmt=\"%.1f\")\n",
    "\n",
    "# Cargar y calcular promedios\n",
    "datos = np.loadtxt(\"notas.csv\", delimiter=\",\")\n",
    "promedios = np.mean(datos[:, 1:], axis=1)\n",
    "print(\"Promedios individuales:\", promedios)\n",
    "\n",
    "# Guardar resultado\n",
    "np.savetxt(\"promedios.txt\", promedios, fmt=\"%.2f\")\n"
   ]
  },
  {
   "cell_type": "markdown",
   "id": "71c9ce26",
   "metadata": {},
   "source": [
    "## ✅ Conclusiones\n",
    "\n",
    "- Python y NumPy facilitan el manejo de archivos de texto, CSV y binarios.  \n",
    "- `np.loadtxt()` y `np.savetxt()` son ideales para procesar datos numéricos.  \n",
    "- Usar formatos binarios (`.npy`) es eficiente para grandes volúmenes de datos.  \n",
    "- Estas herramientas son fundamentales para leer datos experimentales y trabajar con matrices reales en los capítulos siguientes.\n"
   ]
  }
 ],
 "metadata": {
  "kernelspec": {
   "display_name": "Python 3",
   "language": "python",
   "name": "python3"
  },
  "language_info": {
   "name": "python",
   "version": "3.12.7"
  }
 },
 "nbformat": 4,
 "nbformat_minor": 5
}
