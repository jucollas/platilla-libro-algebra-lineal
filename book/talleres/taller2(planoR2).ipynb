{
 "cells": [
  {
   "cell_type": "markdown",
   "id": "2a2bde6c",
   "metadata": {},
   "source": [
    "# Taller Plano $\\mathbb{R}^2$\n",
    "\n",
    "## **Problema 1**  \n",
    "\n",
    "En una ciudad se úed modelar mediante un plano cartesiano, en ella existen doa avenidas, **La avenida A** pasa por el punto $(2,5)$ y tiene dirección $(6,9)$, mientras que **La avenida B** pasa por el punto $(5,8)$ y tiene dirección $(1,\\dfrac{3}{2})$.\n",
    "\n",
    "### **Pregunta:**  \n",
    "Encuentra la distancia mínima entre ellas. \n",
    "\n",
    "\n",
    "## **Problema 2**\n",
    "\n",
    "\n",
    "Un ingeniero está analizando un sistema mecánico en el que dos fuerzas actúan sobre un punto en el plano \\( \\mathbb{R}^2 \\). Estas fuerzas están representadas por los siguientes vectores en Newtons:\n",
    "\n",
    "- **Fuerza 1**:  \n",
    "  $$\n",
    "  \\mathbf{F}_1 = (5, 2)\n",
    "  $$\n",
    "- **Fuerza 2**:  \n",
    "  $$\n",
    "  \\mathbf{F}_2 = (3, 6)\n",
    "  $$\n",
    "\n",
    "El ingeniero necesita determinar el ángulo entre estas dos fuerzas para analizar su efecto combinado sobre la estructura.  \n",
    "\n",
    "### **Preguntas:**  \n",
    "a. Calcula el ángulo $\\theta$ entre los dos vectores \n",
    "b. ¿Cómo influiría este ángulo en la estabilidad del sistema si ambas fuerzas estuvieran actuando sobre un mismo punto?  "
   ]
  }
 ],
 "metadata": {
  "language_info": {
   "name": "python"
  }
 },
 "nbformat": 4,
 "nbformat_minor": 5
}
