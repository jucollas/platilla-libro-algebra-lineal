{
 "cells": [
  {
   "cell_type": "markdown",
   "id": "319b205e",
   "metadata": {},
   "source": [
    "# Taller Matrices 2 $\\times$ 2\n",
    "\n",
    "1. Sea la matriz $A = \\begin{pmatrix} 1 & 2 \\\\ 3 & 4 \\end{pmatrix}$ y el vector $\\mathbf{v} = \\begin{pmatrix} 1 \\\\ 2 \\end{pmatrix}$.  \n",
    "   1. Calcula $A\\mathbf{v}$.  \n",
    "   2. Calcula $A^2\\mathbf{v}$.  \n",
    "   3. Calcula $A\\mathbf{v} + A^2\\mathbf{v}$.  \n",
    "\n",
    " \n",
    "2. **Problema en Contexto: Compra de Frutas**\n",
    "\n",
    "    Un comerciante de frutas desea determinar el precio de cada unidad de manzanas y naranjas. Sabe que si compra 4 manzanas y 3 naranjas, el gasto total es de $26, y que si compra 2 manzanas y 5 naranjas, el gasto es de $23.\n",
    "\n",
    "\n",
    "    a) ¿Cuánto costaría comprar 3 manzanas y 4 naranjas?  \n",
    "    b) Verifica la solución sustituyendo los valores en ambas ecuaciones.\n",
    "\n",
    "3. **Problema en Contexto: Producción de Camisas y Pantalones**\n",
    "\n",
    "    Una fábrica produce camisas y pantalones. La\n",
    "    producción de una camisa requiere 2 horas de trabajo y la de un pantalón 1 hora. El tiempo total de trabajo disponible es de 100 horas por semana. Si la fábrica produce 40 camisas y 60 pantalones, el beneficio semanal es de 3000 dólares, y si produce 60 camisas y 40 pantalones, el beneficio es de 3100 dólares.\n",
    "\n",
    "    a) ¿Cuál es el beneficio de producir 50 camisas y 50 pantalones?\n",
    "    b) Verifica la solución sustituyendo los valores en ambas ecuaciones.\n",
    "\n",
    "4. Si una matriz $A$ de $2\\times 2$ tiene columnas linealmente independientes, ¿es cierto que $A$ tiene filas linealmente independientes? Justifica tu respuesta.\n",
    "\n",
    "5. Escribe 3 formas diferentes de saber si una matriz invertible.\n",
    "\n",
    "6. Si $X=(3,6)$ y $Y=(-2,3)$, que representaría $$proy_{X}Y$$ y $$proy_{Y}X$$ Grafica la situación.\n",
    "\n",
    "7. Como podemos interpretar el determinante de una matriz? ¿Qué significa que el determinante sea igual a cero?\n",
    "\n",
    "8. Los vectores $\\mathbf{v}_1 = (1, 2)$ y $\\mathbf{v}_2 = (-2, 1)$ ortogonales (verifique) entonces son linealmente dependientes. De esta forma, ¿podemos decir que dos vectores ortogonales son linealmente independientes? Justifica tu respuesta. El reciproco ¿es cierto?\n",
    "\n",
    "\n",
    "9. Sea el sistema de ecuaciones lineales\n",
    "$$Ax=b$$\n",
    "y $A$ una matriz cuadrada de $2\\times 2$ con determinante distinto de cero. ¿Cuál es la condición para que el sistema tenga solución única? Justifica tu respuesta. ¿Qué sucede si el determinante de $A$ es igual a cero?\n",
    "\n",
    "\n",
    "\n",
    "10. ¿Qué significa que un conjunto de vectores sea linealmente independiente? ¿Qué significa que un conjunto de vectores sea linealmente dependiente? Da un ejemplo de cada uno.\n"
   ]
  }
 ],
 "metadata": {
  "language_info": {
   "name": "python"
  }
 },
 "nbformat": 4,
 "nbformat_minor": 5
}
