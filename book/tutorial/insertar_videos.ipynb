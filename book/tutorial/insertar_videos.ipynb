{
 "cells": [
  {
   "cell_type": "markdown",
   "id": "b09dd7b5",
   "metadata": {},
   "source": [
    "# Insertar Videos\n",
    "\n",
    "Aqui aprenderemos a insertar videos de youtube\n",
    "\n",
    "\n",
    "```{eval-rst}\n",
    ".. raw:: html\n",
    "\n",
    "    <iframe width=\"560\" height=\"315\" src=\"https://youtu.be/2Xkv-W9tOXU?si=8n2ruphyKOwB5ab0\" title=\"YouTube video player\" frameborder=\"0\" allow=\"accelerometer; autoplay; clipboard-write; encrypted-media; gyroscope; picture-in-picture\" allowfullscreen></iframe>\n",
    "```"
   ]
  }
 ],
 "metadata": {
  "language_info": {
   "name": "python"
  }
 },
 "nbformat": 4,
 "nbformat_minor": 5
}
