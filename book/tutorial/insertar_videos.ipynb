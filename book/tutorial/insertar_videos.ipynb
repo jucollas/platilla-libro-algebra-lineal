{
 "cells": [
  {
   "cell_type": "markdown",
   "id": "b09dd7b5",
   "metadata": {},
   "source": [
    "# Insertar Videos\n",
    "\n",
    "Aqui aprenderemos a insertar videos de youtube\n",
    "\n",
    "\n",
    "### Video\n",
    "<iframe width=\"560\" height=\"315\" src=\"https://www.youtube.com/embed/iJmkkz37EuU\" title=\"YouTube video player\" frameborder=\"0\" allow=\"accelerometer; autoplay; clipboard-write; encrypted-media; gyroscope; picture-in-picture\" allowfullscreen></iframe>"
   ]
  }
 ],
 "metadata": {
  "language_info": {
   "name": "python"
  }
 },
 "nbformat": 4,
 "nbformat_minor": 5
}
