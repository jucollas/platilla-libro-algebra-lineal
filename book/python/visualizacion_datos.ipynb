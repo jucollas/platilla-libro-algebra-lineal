{
 "cells": [
  {
   "cell_type": "markdown",
   "id": "b3c6aeb9",
   "metadata": {},
   "source": [
    "# 📊 Visualización de datos en Python\n",
    "\n",
    "La visualización es una herramienta esencial en la ciencia y la ingeniería.  \n",
    "Nos permite **comprender patrones, relaciones y comportamientos** de los datos de forma intuitiva.\n",
    "\n",
    "En esta sección aprenderás a crear gráficos simples con **Matplotlib**, la biblioteca más usada para visualización en Python, y verás cómo se relaciona con listas y operaciones matemáticas básicas.\n"
   ]
  },
  {
   "cell_type": "code",
   "execution_count": null,
   "id": "9a9c81f6",
   "metadata": {},
   "outputs": [],
   "source": [
    "# Importar la librería principal de visualización\n",
    "import matplotlib.pyplot as plt\n",
    "\n",
    "# Activar visualización en notebooks (opcional en Jupyter)\n",
    "%matplotlib inline\n"
   ]
  },
  {
   "cell_type": "markdown",
   "id": "febc93b0",
   "metadata": {},
   "source": [
    "## 📈 Gráfico de líneas básico\n",
    "\n",
    "El gráfico más simple muestra una relación entre valores de `x` y `y`.\n",
    "\n",
    "Podemos graficar listas o rangos directamente.\n"
   ]
  },
  {
   "cell_type": "code",
   "execution_count": null,
   "id": "4e5ac187",
   "metadata": {},
   "outputs": [],
   "source": [
    "# Ejemplo simple de gráfico de líneas\n",
    "x = [1, 2, 3, 4, 5]\n",
    "y = [2, 4, 6, 8, 10]\n",
    "\n",
    "plt.plot(x, y)\n",
    "plt.title(\"Gráfico de líneas básico\")\n",
    "plt.xlabel(\"Eje X\")\n",
    "plt.ylabel(\"Eje Y\")\n",
    "plt.grid(True)\n",
    "plt.show()\n"
   ]
  },
  {
   "cell_type": "markdown",
   "id": "49b99378",
   "metadata": {},
   "source": [
    "## 🔹 Personalización del gráfico\n",
    "\n",
    "Podemos cambiar colores, estilos de línea y marcadores para destacar información visualmente.\n"
   ]
  },
  {
   "cell_type": "code",
   "execution_count": null,
   "id": "1e6bb14d",
   "metadata": {},
   "outputs": [],
   "source": [
    "# Estilos personalizados\n",
    "x = [0, 1, 2, 3, 4, 5]\n",
    "y1 = [n**2 for n in x]\n",
    "y2 = [n**3 for n in x]\n",
    "\n",
    "plt.plot(x, y1, color=\"blue\", marker=\"o\", linestyle=\"--\", label=\"y = x²\")\n",
    "plt.plot(x, y2, color=\"red\", marker=\"s\", linestyle=\"-.\", label=\"y = x³\")\n",
    "\n",
    "plt.title(\"Comparación de funciones cuadrática y cúbica\")\n",
    "plt.xlabel(\"x\")\n",
    "plt.ylabel(\"y\")\n",
    "plt.legend()\n",
    "plt.show()\n"
   ]
  },
  {
   "cell_type": "markdown",
   "id": "4b653b1c",
   "metadata": {},
   "source": [
    "## 🧮 Gráficos de funciones matemáticas\n",
    "\n",
    "Podemos usar **listas** o **NumPy** (más adelante) para generar puntos de funciones matemáticas.  \n",
    "Aquí usaremos el módulo `math` para crear listas de valores de seno y coseno.\n"
   ]
  },
  {
   "cell_type": "code",
   "execution_count": null,
   "id": "a81fb07c",
   "metadata": {},
   "outputs": [],
   "source": [
    "import math\n",
    "\n",
    "# Generar datos para seno y coseno\n",
    "x = [n * 0.1 for n in range(0, 100)]\n",
    "y_sin = [math.sin(val) for val in x]\n",
    "y_cos = [math.cos(val) for val in x]\n",
    "\n",
    "plt.plot(x, y_sin, label=\"sin(x)\")\n",
    "plt.plot(x, y_cos, label=\"cos(x)\")\n",
    "plt.title(\"Funciones seno y coseno\")\n",
    "plt.xlabel(\"x (radianes)\")\n",
    "plt.ylabel(\"Valor de la función\")\n",
    "plt.legend()\n",
    "plt.show()\n"
   ]
  },
  {
   "cell_type": "markdown",
   "id": "61fcfd74",
   "metadata": {},
   "source": [
    "## 📊 Gráfico de barras\n",
    "\n",
    "Los gráficos de barras permiten comparar cantidades discretas o categóricas.\n"
   ]
  },
  {
   "cell_type": "code",
   "execution_count": null,
   "id": "12a86bef",
   "metadata": {},
   "outputs": [],
   "source": [
    "categorias = [\"A\", \"B\", \"C\", \"D\"]\n",
    "valores = [15, 8, 12, 10]\n",
    "\n",
    "plt.bar(categorias, valores, color=[\"#4C72B0\", \"#55A868\", \"#C44E52\", \"#8172B3\"])\n",
    "plt.title(\"Ejemplo de gráfico de barras\")\n",
    "plt.xlabel(\"Categorías\")\n",
    "plt.ylabel(\"Valores\")\n",
    "plt.show()\n"
   ]
  },
  {
   "cell_type": "markdown",
   "id": "80081a0f",
   "metadata": {},
   "source": [
    "## 🔹 Gráfico de dispersión (scatter plot)\n",
    "\n",
    "El gráfico de dispersión muestra la relación entre dos variables continuas.\n"
   ]
  },
  {
   "cell_type": "code",
   "execution_count": null,
   "id": "d4bb732d",
   "metadata": {},
   "outputs": [],
   "source": [
    "import random\n",
    "\n",
    "# Generar datos aleatorios\n",
    "x = [random.uniform(0, 10) for _ in range(30)]\n",
    "y = [2.5 * val + random.uniform(-3, 3) for val in x]\n",
    "\n",
    "plt.scatter(x, y, color=\"purple\", alpha=0.7)\n",
    "plt.title(\"Gráfico de dispersión\")\n",
    "plt.xlabel(\"Variable X\")\n",
    "plt.ylabel(\"Variable Y\")\n",
    "plt.show()\n"
   ]
  },
  {
   "cell_type": "markdown",
   "id": "967ca027",
   "metadata": {},
   "source": [
    "## 🔄 Múltiples gráficos (subplots)\n",
    "\n",
    "Podemos mostrar varios gráficos en una misma figura con `plt.subplot(filas, columnas, índice)`.\n"
   ]
  },
  {
   "cell_type": "code",
   "execution_count": null,
   "id": "6c88cd1f",
   "metadata": {},
   "outputs": [],
   "source": [
    "x = [1, 2, 3, 4, 5]\n",
    "y1 = [n for n in x]\n",
    "y2 = [n**2 for n in x]\n",
    "y3 = [n**3 for n in x]\n",
    "\n",
    "plt.figure(figsize=(10, 4))\n",
    "\n",
    "plt.subplot(1, 3, 1)\n",
    "plt.plot(x, y1, \"r-o\")\n",
    "plt.title(\"Lineal\")\n",
    "\n",
    "plt.subplot(1, 3, 2)\n",
    "plt.plot(x, y2, \"g--\")\n",
    "plt.title(\"Cuadrática\")\n",
    "\n",
    "plt.subplot(1, 3, 3)\n",
    "plt.plot(x, y3, \"b-.\")\n",
    "plt.title(\"Cúbica\")\n",
    "\n",
    "plt.tight_layout()\n",
    "plt.show()\n"
   ]
  },
  {
   "cell_type": "markdown",
   "id": "2e7dc2cc",
   "metadata": {},
   "source": [
    "## 🌈 Estilos y temas\n",
    "\n",
    "Matplotlib permite usar estilos predefinidos para mejorar la estética de las figuras.\n"
   ]
  },
  {
   "cell_type": "code",
   "execution_count": null,
   "id": "75eb4bec",
   "metadata": {},
   "outputs": [],
   "source": [
    "# Lista de estilos disponibles\n",
    "plt.style.available[:10]\n"
   ]
  },
  {
   "cell_type": "code",
   "execution_count": null,
   "id": "e52a3a90",
   "metadata": {},
   "outputs": [],
   "source": [
    "plt.style.use(\"seaborn-v0_8\")\n",
    "\n",
    "x = [1, 2, 3, 4, 5]\n",
    "y = [5, 7, 6, 8, 9]\n",
    "\n",
    "plt.plot(x, y, marker=\"o\")\n",
    "plt.title(\"Gráfico con estilo 'seaborn'\")\n",
    "plt.show()\n"
   ]
  },
  {
   "cell_type": "markdown",
   "id": "005ce5fc",
   "metadata": {},
   "source": [
    "## 💾 Guardar figuras\n",
    "\n",
    "Podemos exportar los gráficos en distintos formatos (`.png`, `.jpg`, `.pdf`, etc.).\n"
   ]
  },
  {
   "cell_type": "code",
   "execution_count": null,
   "id": "c1ed5fad",
   "metadata": {},
   "outputs": [],
   "source": [
    "x = [1, 2, 3, 4]\n",
    "y = [10, 15, 7, 12]\n",
    "\n",
    "plt.plot(x, y, marker=\"s\", color=\"darkred\")\n",
    "plt.title(\"Ejemplo de exportación\")\n",
    "plt.savefig(\"grafico_ejemplo.png\", dpi=300, bbox_inches=\"tight\")\n",
    "plt.show()\n"
   ]
  },
  {
   "cell_type": "markdown",
   "id": "cafa0f2c",
   "metadata": {},
   "source": [
    "## 🧩 Actividad práctica\n",
    "\n",
    "Crea un gráfico que muestre las siguientes funciones en el mismo eje:\n",
    "\n",
    "- $ y_1 = x^2 $\n",
    "- $ y_2 = 2x + 3 $\n",
    "- $ y_3 = \\sin(x) $\n",
    "\n",
    "Usa etiquetas, leyenda y colores distintos.  \n",
    "Guarda el resultado como `funciones.png`.\n",
    "\n",
    "---\n",
    "\n",
    "## ✅ Conclusiones\n",
    "\n",
    "- La visualización ayuda a **entender relaciones y tendencias**.  \n",
    "- `matplotlib.pyplot` es una herramienta flexible y potente.  \n",
    "- En los siguientes capítulos, combinaremos estas técnicas con **NumPy**, para generar datos de forma más eficiente y representar operaciones vectoriales y matriciales.\n"
   ]
  }
 ],
 "metadata": {
  "kernelspec": {
   "display_name": "Python 3",
   "language": "python",
   "name": "python3"
  },
  "language_info": {
   "name": "python",
   "version": "3.12.7"
  }
 },
 "nbformat": 4,
 "nbformat_minor": 5
}
