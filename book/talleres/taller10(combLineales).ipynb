{
 "cells": [
  {
   "cell_type": "markdown",
   "id": "cb3d35b2",
   "metadata": {},
   "source": [
    "# Taller Subespacios, Combinaciones Lineales, Independencia y Bases\n",
    "\n",
    "1. Sea $W=\\{(x,y,z)\\in \\mathbb{R}^3 : x-2y+z=0\\}$. Determina si $W$ es un subespacio vectorial de $\\mathbb{R}^3$ justificando cada propiedad.\n",
    "\n",
    "2. Considera el conjunto $W=\\{(x,y)\\in \\mathbb{R}^2 : 2x-3y=4\\}$. ¿Es $W$ un subespacio vectorial? Explica tu respuesta.\n",
    "\n",
    "3. Dados $v_1=(1,3,2)$ y $v_2=(2,-1,4)$ en $\\mathbb{R}^3$, establece si el vector $w=(5,2,8)$ se puede expresar como combinación lineal de $v_1$ y $v_2$; de ser así, encuentra los escalares correspondientes.\n",
    "\n",
    "4. Determina si los vectores $v_1=(1,0,2)$, $v_2=(0,1,-1)$ y $v_3=(3,2,3)$ en $\\mathbb{R}^3$ son linealmente independientes, mostrando los pasos del procedimiento.\n",
    "\n",
    "5. Sea $W=\\{(x,y,z)\\in \\mathbb{R}^3 : x+y+z=0\\}$. Encuentra una base para $W$ y determina su dimensión.\n",
    "\n",
    "6. Considera los vectores $v_1=(1,0,0)$, $v_2=(0,1,0)$ y $v_3=(0,0,1)$ en $\\mathbb{R}^3$. Demuestra que el subespacio generado por estos vectores es $\\mathbb{R}^3$.\n",
    "\n",
    "7. Sea $W=\\{(x,y,z)\\in \\mathbb{R}^3 : 2x-y+3z=0\\}$. Verifica que $W$ es un subespacio vectorial y determina su dimensión.\n",
    "\n",
    "8. Dado el conjunto $S=\\{(1,2),(3,6)\\}$ en $\\mathbb{R}^2$, decide si los vectores son linealmente independientes y describe el subespacio generado por $S$.\n",
    "\n",
    "9. Considera $v_1=(1,2,1)$ y $v_2=(0,1,1)$ en $\\mathbb{R}^3$. Resuelve el sistema para encontrar los coeficientes que permitan expresar $w=(3,5,4)$ como combinación lineal de $v_1$ y $v_2$.\n",
    "\n",
    "10. Sea $W_1=\\{v_1,v_2,v_3\\}$ un conjunto de vectores linealmente independientes en $\\mathbb{R}^4$ y $W_2=\\{v_1,v_2,v_3,v_4\\}$ donde $v_4$ es combinación lineal de $v_1,v_2,v_3$. Compara los subespacios generados por $W_1$ y $W_2$ y justifica si son iguales o no.\n",
    "\n",
    "# Preguntas de Verdadero o Falso\n",
    "\n",
    "11. Todo subespacio vectorial de $\\mathbb{R}^n$ debe contener el vector cero.\n",
    "\n",
    "12. Si $W=\\{(x,y,z)\\in \\mathbb{R}^3: x+y+z=2\\}$, entonces $W$ es un subespacio vectorial de $\\mathbb{R}^3$.\n",
    "\n",
    "13. La combinación lineal de vectores puede producir el vector cero solo si todos los coeficientes son cero.\n",
    "\n",
    "14. Un conjunto de vectores es linealmente dependiente si al menos uno de ellos puede expresarse como combinación lineal de los otros.\n",
    "\n",
    "15. El subespacio generado por un conjunto de vectores siempre es $\\mathbb{R}^n$ sin importar los vectores elegidos.\n",
    "\n",
    "16. Si un conjunto de vectores en $\\mathbb{R}^n$ tiene más de $n$ vectores, necesariamente son linealmente dependientes.\n",
    "\n",
    "17. La dimensión de un subespacio es el número de vectores en cualquier conjunto que lo genere.\n",
    "\n",
    "18. Si dos conjuntos de vectores generan el mismo subespacio, sus bases tienen el mismo número de elementos.\n",
    "\n",
    "19. Toda combinación lineal de vectores es única.\n",
    "\n",
    "20. La eliminación de Gauss es una técnica que puede usarse para resolver sistemas de ecuaciones lineales y determinar la independencia lineal."
   ]
  }
 ],
 "metadata": {
  "language_info": {
   "name": "python"
  }
 },
 "nbformat": 4,
 "nbformat_minor": 5
}
