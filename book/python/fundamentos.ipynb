{
 "cells": [
  {
   "cell_type": "markdown",
   "id": "e3acc57a",
   "metadata": {},
   "source": [
    "# 🐍 Fundamentos de Python\n",
    "\n",
    "En esta sección aprenderás los conceptos esenciales del lenguaje **Python**, que nos servirán como base para los cálculos algebraicos y numéricos en capítulos posteriores.\n",
    "\n",
    "Python es un lenguaje **interpretable, multiplataforma y de sintaxis simple**, lo que lo convierte en una herramienta ideal para aprender programación aplicada a las matemáticas.\n",
    "\n",
    "---\n",
    "\n",
    "## 🎯 Objetivos\n",
    "\n",
    "- Comprender la sintaxis básica de Python.  \n",
    "- Usar variables, tipos de datos y estructuras comunes.  \n",
    "- Aprender a controlar el flujo del programa (condicionales y bucles).  \n",
    "- Definir funciones para reutilizar código.\n"
   ]
  },
  {
   "cell_type": "code",
   "execution_count": 1,
   "id": "4d8989d4",
   "metadata": {},
   "outputs": [
    {
     "name": "stdout",
     "output_type": "stream",
     "text": [
      "¡Hola, mundo!\n"
     ]
    }
   ],
   "source": [
    "# Comentarios en Python\n",
    "# Todo lo que está después del símbolo \"#\" no se ejecuta.\n",
    "\n",
    "print(\"¡Hola, mundo!\")  # Este es el clásico primer programa\n"
   ]
  },
  {
   "cell_type": "markdown",
   "id": "4f2ebc5e",
   "metadata": {},
   "source": [
    "## 📦 Tipos de datos básicos\n",
    "\n",
    "Python maneja distintos tipos de datos fundamentales:\n",
    "\n",
    "- **int** → números enteros (`5`, `-2`)\n",
    "- **float** → números decimales (`3.14`, `-0.5`)\n",
    "- **str** → cadenas de texto (`\"Hola\"`, `'Python'`)\n",
    "- **bool** → valores lógicos (`True`, `False`)\n"
   ]
  },
  {
   "cell_type": "code",
   "execution_count": 2,
   "id": "b96758ef",
   "metadata": {},
   "outputs": [
    {
     "name": "stdout",
     "output_type": "stream",
     "text": [
      "<class 'int'>\n",
      "<class 'float'>\n",
      "<class 'str'>\n",
      "<class 'bool'>\n"
     ]
    }
   ],
   "source": [
    "# Ejemplos de tipos de datos\n",
    "entero = 10\n",
    "decimal = 3.14\n",
    "texto = \"Aprendiendo Python\"\n",
    "booleano = True\n",
    "\n",
    "print(type(entero))\n",
    "print(type(decimal))\n",
    "print(type(texto))\n",
    "print(type(booleano))\n"
   ]
  },
  {
   "cell_type": "markdown",
   "id": "02b606a9",
   "metadata": {},
   "source": [
    "## ✏️ Variables y operadores\n",
    "\n",
    "Las **variables** guardan valores.  \n",
    "Python no requiere declarar el tipo de variable, lo deduce automáticamente.\n",
    "\n",
    "También podemos realizar operaciones matemáticas básicas:\n"
   ]
  },
  {
   "cell_type": "code",
   "execution_count": null,
   "id": "1b866968",
   "metadata": {},
   "outputs": [],
   "source": [
    "# Operaciones con variables\n",
    "a = 5\n",
    "b = 2\n",
    "\n",
    "suma = a + b\n",
    "resta = a - b\n",
    "producto = a * b\n",
    "division = a / b\n",
    "potencia = a ** b\n",
    "\n",
    "print(\"Suma:\", suma)\n",
    "print(\"Resta:\", resta)\n",
    "print(\"Producto:\", producto)\n",
    "print(\"División:\", division)\n",
    "print(\"Potencia:\", potencia)\n"
   ]
  },
  {
   "cell_type": "markdown",
   "id": "da6b4662",
   "metadata": {},
   "source": [
    "## 📋 Estructuras de datos\n",
    "\n",
    "Python tiene estructuras muy útiles:\n",
    "\n",
    "- **Listas** (`list`): colecciones ordenadas y modificables.  \n",
    "- **Tuplas** (`tuple`): colecciones ordenadas, pero **inmutables**.  \n",
    "- **Diccionarios** (`dict`): pares clave–valor.\n"
   ]
  },
  {
   "cell_type": "code",
   "execution_count": 4,
   "id": "8faa110b",
   "metadata": {},
   "outputs": [
    {
     "name": "stdout",
     "output_type": "stream",
     "text": [
      "Lista: [1, 2, 3, 4, 5]\n",
      "Tupla: (10, 20)\n",
      "Diccionario: {'nombre': 'Ana', 'edad': 22, 'ciudad': 'Bogotá'}\n"
     ]
    }
   ],
   "source": [
    "# Lista\n",
    "numeros = [1, 2, 3, 4, 5]\n",
    "print(\"Lista:\", numeros)\n",
    "\n",
    "# Tupla\n",
    "coordenadas = (10, 20)\n",
    "print(\"Tupla:\", coordenadas)\n",
    "\n",
    "# Diccionario\n",
    "persona = {\"nombre\": \"Ana\", \"edad\": 22, \"ciudad\": \"Bogotá\"}\n",
    "print(\"Diccionario:\", persona)\n"
   ]
  },
  {
   "cell_type": "markdown",
   "id": "b93d461d",
   "metadata": {},
   "source": [
    "## 🔁 Estructuras de control\n",
    "\n",
    "Python usa **indentación** (sangría) para definir bloques de código.\n",
    "\n",
    "Veamos condicionales y bucles.\n"
   ]
  },
  {
   "cell_type": "code",
   "execution_count": null,
   "id": "af4a4c19",
   "metadata": {},
   "outputs": [],
   "source": [
    "# Condicional if / elif / else\n",
    "x = 10\n",
    "\n",
    "if x > 0:\n",
    "    print(\"El número es positivo\")\n",
    "elif x == 0:\n",
    "    print(\"El número es cero\")\n",
    "else:\n",
    "    print(\"El número es negativo\")\n"
   ]
  },
  {
   "cell_type": "code",
   "execution_count": null,
   "id": "574b0cf3",
   "metadata": {},
   "outputs": [],
   "source": [
    "# Bucle for\n",
    "for i in range(5):\n",
    "    print(\"Iteración número:\", i)\n"
   ]
  },
  {
   "cell_type": "code",
   "execution_count": null,
   "id": "c5da8262",
   "metadata": {},
   "outputs": [],
   "source": [
    "# Bucle while\n",
    "contador = 0\n",
    "while contador < 3:\n",
    "    print(\"Contador:\", contador)\n",
    "    contador += 1\n"
   ]
  },
  {
   "cell_type": "markdown",
   "id": "69ceca2a",
   "metadata": {},
   "source": [
    "## ⚙️ Funciones\n",
    "\n",
    "Las funciones permiten **reutilizar código**.  \n",
    "Se definen con la palabra clave `def` y pueden devolver valores con `return`.\n"
   ]
  },
  {
   "cell_type": "code",
   "execution_count": 5,
   "id": "9514747d",
   "metadata": {},
   "outputs": [
    {
     "name": "stdout",
     "output_type": "stream",
     "text": [
      "Hola, Camila! Bienvenido al curso.\n"
     ]
    }
   ],
   "source": [
    "def saludar(nombre):\n",
    "    return f\"Hola, {nombre}! Bienvenido al curso.\"\n",
    "\n",
    "print(saludar(\"Camila\"))\n"
   ]
  },
  {
   "cell_type": "markdown",
   "id": "89966326",
   "metadata": {},
   "source": [
    "## 🧮 Ejemplo práctico\n",
    "\n",
    "Veamos un ejemplo que combine condicionales, bucles y funciones para calcular el promedio de una lista de números.\n"
   ]
  },
  {
   "cell_type": "code",
   "execution_count": 6,
   "id": "b129beb5",
   "metadata": {},
   "outputs": [
    {
     "name": "stdout",
     "output_type": "stream",
     "text": [
      "Promedio: 8.8\n"
     ]
    }
   ],
   "source": [
    "def promedio(lista):\n",
    "    suma = 0\n",
    "    for numero in lista:\n",
    "        suma += numero\n",
    "    return suma / len(lista)\n",
    "\n",
    "valores = [10, 8, 9, 7, 10]\n",
    "print(\"Promedio:\", promedio(valores))\n"
   ]
  },
  {
   "cell_type": "markdown",
   "id": "5fc0e2ea",
   "metadata": {},
   "source": [
    "## ✅ Conclusiones\n",
    "\n",
    "- Python tiene una sintaxis sencilla y legible.  \n",
    "- Sus estructuras de datos permiten trabajar con listas y colecciones fácilmente.  \n",
    "- El uso de funciones ayuda a estructurar el código y hacerlo más reutilizable.\n",
    "\n",
    "En la siguiente sección veremos cómo aplicar estas herramientas en **operaciones básicas**, y luego nos centraremos en **NumPy**, la librería fundamental para el cálculo vectorial y matricial.\n"
   ]
  }
 ],
 "metadata": {
  "kernelspec": {
   "display_name": "Python 3",
   "language": "python",
   "name": "python3"
  },
  "language_info": {
   "codemirror_mode": {
    "name": "ipython",
    "version": 3
   },
   "file_extension": ".py",
   "mimetype": "text/x-python",
   "name": "python",
   "nbconvert_exporter": "python",
   "pygments_lexer": "ipython3",
   "version": "3.13.7"
  }
 },
 "nbformat": 4,
 "nbformat_minor": 5
}
