{
 "cells": [
  {
   "cell_type": "markdown",
   "id": "6a3920b1",
   "metadata": {},
   "source": [
    "# Subespacio de $\\mathbb{R}²$\n",
    "\n",
    "Un subespacio de $\\mathbb{R}^2$ es un conjunto de vectores que cumple con las siguientes propiedades:\n",
    "\n",
    "1. El vector cero está en el subespacio.\n",
    "2. El subespacio es cerrado bajo la suma de vectores.\n",
    "3. El subespacio es cerrado bajo la multiplicación por un escalar.\n",
    "\n",
    "## Ejemplo\n",
    "\n",
    "El conjunto de todos los vectores que estan contenidos en una recta que pasa por el origen es un subespacio de $\\mathbb{R}^2$. Esto se debe a que la recta cumple con las tres propiedades mencionadas anteriormente. ¿cómo podemos mostrar esto?\n",
    "\n",
    "## Ejemplo 2\n",
    "\n",
    "El vector cero es un subespacio. ¿Por qué?\n",
    "\n",
    "\n",
    "\n",
    "# Combinación lineal\n",
    "\n",
    "La combinación lineal es una operación entre un conjunto de vectores, por ejemplo si tenemos el conjunto de vectores $W=\\{\\mathbf{v}_1,\\mathbf{v}_2,\\mathbf{v}_3\\}$ no nulos, se puede decir que un vector $\\mathbf{w}$ es una combinación lineal de los vectores de $W$ si se puede expresar como \n",
    "\n",
    "$$\\mathbf{w} = \\alpha_1 \\mathbf{v}_1 + \\alpha_2 \\mathbf{v}_2 + \\alpha_3 \\mathbf{v}_3$$\n",
    "\n",
    "donde $\\alpha_1, \\alpha_2, \\alpha_3$ son números reales. Ademas, el conjunto generado por todas las combinaciones lineales de los vectores de $W$ se llama el espacio generado por $W$ y se denota por $Span(W)$.\n",
    "\n",
    "## Ejemplo\n",
    "\n",
    "Vamos a estudiar el conjunto generado por el vector $\\mathbf{v} = (1, 2)$ en $\\mathbb{R}^2$. Lo primero que vamos a estudiar es el conjunto de todas las combinaciones lineales de $\\mathbf{v}$, es decir, el conjunto de todos los vectores que se pueden obtener multiplicando $\\mathbf{v}$ por un número real. Para ello vamos a graficar el vector $\\mathbf{v}$ y luego multiplicamos a este vector por un número real $c$ y graficamos el vector resultante. Como lo vemos en la siguiente figura el conjunto de todas las combinaciones lineales de $\\mathbf{v}$ es una recta de color negro que pasa por el origen y tiene dirección $\\mathbf{v}$.\n",
    "\n"
   ]
  },
  {
   "cell_type": "code",
   "execution_count": null,
   "id": "61714179",
   "metadata": {
    "tags": [
     "thebe-init"
    ]
   },
   "outputs": [
    {
     "data": {
      "application/vnd.jupyter.widget-view+json": {
       "model_id": "6fe611d9701e4a31831fdc1b7a0af19b",
       "version_major": 2,
       "version_minor": 0
      },
      "text/plain": [
       "interactive(children=(FloatSlider(value=1.0, description='scale', max=5.0, min=-5.0, step=0.5), Output()), _do…"
      ]
     },
     "metadata": {},
     "output_type": "display_data"
    },
    {
     "data": {
      "text/plain": [
       "<function __main__.plot_vector(scale)>"
      ]
     },
     "execution_count": 1,
     "metadata": {},
     "output_type": "execute_result"
    }
   ],
   "source": [
    "import matplotlib.pyplot as plt\n",
    "import numpy as np\n",
    "import ipywidgets as widgets\n",
    "from ipywidgets import interact\n",
    "\n",
    "# Vector fijo\n",
    "u = np.array([1, 2])\n",
    "\n",
    "def plot_vector(scale):\n",
    "    #v = np.array([scale, scale])  # vector cambiante\n",
    "    result = u * scale  # multiplicación componente a componente\n",
    "\n",
    "    plt.figure(figsize=(5,5))\n",
    "    ax = plt.gca()\n",
    "    ax.set_xlim(-10, 10)\n",
    "    ax.set_ylim(-10, 10)\n",
    "    ax.axhline(0, color='gray', linewidth=1)\n",
    "    ax.axvline(0, color='gray', linewidth=1)\n",
    "    \n",
    "    # Dibujar vectores\n",
    "    plt.quiver(0,0, u[0], u[1], angles='xy', scale_units='xy', scale=1, color=\"blue\", label=\"u = (1,2)\")\n",
    "    #plt.quiver(0,0, v[0], v[1], angles='xy', scale_units='xy', scale=1, color=\"green\", label=f\"v = ({scale},{scale})\")\n",
    "    plt.quiver(0,0, result[0], result[1], angles='xy', scale_units='xy', scale=1, color=\"red\", label=f\"u * v = {tuple(result)}\")\n",
    "    \n",
    "    plt.legend()\n",
    "    plt.grid(True)\n",
    "    plt.show()\n",
    "# Crear el control interactivo\n",
    "interact(plot_vector, scale=widgets.FloatSlider(min=-5, max=5, step=0.5, value=1))\n"
   ]
  },
  {
   "cell_type": "markdown",
   "id": "1d6142f8",
   "metadata": {},
   "source": [
    "![Independencia lineal animada](../../images/notebooks/indep-lineal-1.gif)\n"
   ]
  },
  {
   "cell_type": "markdown",
   "id": "3eb03fc7",
   "metadata": {},
   "source": [
    "## Ejemplo 2\n",
    "\n",
    "Vamos a estudiar si el vector $\\mathbf{w} = (10, 5)$ es una combinación lineal del vector $\\mathbf{v}_1 = (1, 2)$, Note que el vector \n",
    "\n",
    "$$\\mathbf{w} = 5 \\mathbf{v}_1$$\n",
    "\n",
    "puesto que \n",
    "\n",
    "$$5 \\mathbf{v}_1 = 5(1, 2) = (5, 10)$$\n",
    "\n",
    "De esta forma podemos decir que $\\mathbf{w}$ es una combinación lineal de $\\mathbf{v}_1$. Además podemos ver que  $\\mathbf{w}\\in Span(\\mathbf{v}_1)$.\n",
    "\n",
    "\n",
    "Aquí nos surgen varias preguntas que gráficamente podríamos resolver como \n",
    "\n",
    "* ¿Si $\\mathbf{w},\\mathbf{v}_1$ son paralelos y vectores de $\\mathbb{R}^2$, estos formaran el mismo espacio generado?\n",
    "\n",
    "* ¿El vector $\\mathbf{z}=(5,2)$ también es una combinación lineal de $\\mathbf{v}_1=(1,2)$?\n",
    "\n",
    "\n",
    "\n",
    "\n",
    "Ahora supongamos que tenemos dos vectores  no nulos en $\\mathbb{R}^2$, llamados $\\mathbf{v}_1=(2,1)$ y $\\mathbf{v}_2=(1,2)$. Vamos a estudiar el conjunto de todas las combinaciones lineales de estos dos vectores. Para ello vamos a graficar los vectores $\\mathbf{v}_1$ y $\\mathbf{v}_2$ y luego multiplicamos a estos vectores por dos números reales $c_1$ y $c_2$ y graficamos el vector resultante. Como lo vemos en la siguiente figura el conjunto de todas las combinaciones lineales de $\\mathbf{v}_1$ y $\\mathbf{v}_2$ es un plano de color\n",
    "\n"
   ]
  },
  {
   "cell_type": "markdown",
   "id": "fdd3302a",
   "metadata": {},
   "source": [
    "![Generacion del espacio](../../images/notebooks/indep-lineal-2.gif){width=50%}"
   ]
  },
  {
   "cell_type": "markdown",
   "id": "37a2992a",
   "metadata": {},
   "source": [
    "Note que en este caso podemos ver que el espacio generado por todos los vectores es $\\mathbb{R}^2$.\n",
    "\n",
    "\n",
    "Definición: Un conjunto de vectores $W=\\{\\mathbf{v}_1,\\mathbf{v}_2,\\ldots,\\mathbf{v}_n\\}$ en $\\mathbb{R}^n$ es linealmente independiente si la única combinación lineal de los vectores de $W$ que da como resultado el vector cero es la combinación lineal trivial, es decir, si\n",
    "\n",
    "$$\\alpha_1 \\mathbf{v}_1 + \\alpha_2 \\mathbf{v}_2 + \\ldots + \\alpha_n \\mathbf{v}_n = \\mathbf{0}$$\n",
    "\n",
    "entonces $\\alpha_1 = \\alpha_2 = \\ldots = \\alpha_n = 0$. Si un conjunto de vectores no es linealmente independiente, se dice que es linealmente dependiente.\n",
    "\n",
    "\n",
    "## Ejemplo\n",
    "\n",
    "Note que los vectores $\\mathbf{v}_1=(1,1)$ y $\\mathbf{v}_2=(-1,1)$ son linealmente independientes, ya que la única combinación lineal de estos vectores que da como resultado el vector cero es la combinación lineal trivial. Es decir, si $\\alpha_1 \\mathbf{v}_1 + \\alpha_2 \\mathbf{v}_2 = \\mathbf{0}$, entonces $\\alpha_1 = \\alpha_2 = 0$. ¿Por qué?\n",
    "\n",
    "Definición\n",
    "\n",
    "Un conjunto de vectores $W=\\{\\mathbf{v}_1,\\mathbf{v}_2,\\ldots,\\mathbf{v}_n\\}$ en $\\mathbb{R}^2$ es una base si cumple las siguientes dos condiciones:\n",
    "\n",
    "1. Los elementos de $W$ son linealmente independientes.\n",
    "2. $Span(W)=\\mathbb{R}^2$. Es decir, cualquier vector en $\\mathbb{R}^2$ se puede expresar como una combinación lineal de los vectores de $W$."
   ]
  }
 ],
 "metadata": {
  "kernelspec": {
   "display_name": ".env",
   "language": "python",
   "name": "python3"
  },
  "language_info": {
   "codemirror_mode": {
    "name": "ipython",
    "version": 3
   },
   "file_extension": ".py",
   "mimetype": "text/x-python",
   "name": "python",
   "nbconvert_exporter": "python",
   "pygments_lexer": "ipython3",
   "version": "3.13.7"
  }
 },
 "nbformat": 4,
 "nbformat_minor": 5
}
