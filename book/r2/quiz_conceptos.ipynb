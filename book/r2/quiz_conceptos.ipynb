{
 "cells": [
  {
   "cell_type": "markdown",
   "id": "0d4a40f5",
   "metadata": {},
   "source": [
    "# quiz"
   ]
  }
 ],
 "metadata": {
  "language_info": {
   "name": "python"
  }
 },
 "nbformat": 4,
 "nbformat_minor": 5
}
